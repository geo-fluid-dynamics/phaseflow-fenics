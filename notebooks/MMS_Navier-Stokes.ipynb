{
 "cells": [
  {
   "cell_type": "markdown",
   "metadata": {},
   "source": [
    "In this notebook, we use the [method of manufactured solutions](http://prod.sandia.gov/techlib/access-control.cgi/2000/001444.pdf) to verify that [Phaseflow](https://github.com/geo-fluid-dynamics/phaseflow-fenics) correctly solves its governing equations."
   ]
  },
  {
   "cell_type": "markdown",
   "metadata": {},
   "source": [
    "# Set up this Jupyter notebook\n",
    "Enable equation numbering:"
   ]
  },
  {
   "cell_type": "code",
   "execution_count": 5,
   "metadata": {},
   "outputs": [
    {
     "data": {
      "application/javascript": [
       "MathJax.Hub.Config({\n",
       "  TeX: { equationNumbers: { autoNumber: \"AMS\" } }\n",
       "});"
      ],
      "text/plain": [
       "<IPython.core.display.Javascript object>"
      ]
     },
     "metadata": {},
     "output_type": "display_data"
    }
   ],
   "source": [
    "%%javascript\n",
    "MathJax.Hub.Config({\n",
    "  TeX: { equationNumbers: { autoNumber: \"AMS\" } }\n",
    "});"
   ]
  },
  {
   "cell_type": "markdown",
   "metadata": {},
   "source": [
    "# Set up SymPy"
   ]
  },
  {
   "cell_type": "code",
   "execution_count": 6,
   "metadata": {},
   "outputs": [],
   "source": [
    "import sympy\n",
    "import sympy.vector\n",
    "from sympy.vector import divergence as div, gradient as grad\n",
    "\n",
    "t = sympy.symbols('t')\n",
    "\n",
    "R = sympy.vector.CoordSys3D('R')\n",
    "\n",
    "diff, exp, sin, tanh, transpose = sympy.diff, sympy.exp, sympy.sin, sympy.tanh, sympy.transpose\n",
    "\n",
    "x, y, z = R.x, R.y, R.z"
   ]
  },
  {
   "cell_type": "markdown",
   "metadata": {},
   "source": [
    "# Define the governing equations\n",
    "The governing equations are\n",
    "\n",
    "$$\\begin{align}\n",
    "    \\nabla\\cdot\\mathbf{u} &= s_p, \\\\\n",
    "    \\frac{\\partial}{\\partial t}\\mathbf{u} + \\left(\\mathbf{u}\\cdot\\nabla\\right)\\mathbf{u} + \\nabla p - \\nabla\\cdot\\left(2 \\mu_{SL}\\left((P(T)\\right) \\mathbf{D(u)}\\right) \n",
    "    + \\mathbf{f}_B(T) &= \\mathbf{s_u}, \\\\\n",
    "    \\frac{\\partial}{\\partial t}(CT) + \\nabla\\cdot(CT\\mathbf{u}) \n",
    "    - \\mathscr{Pr}^{-1}\\nabla\\cdot(K\\nabla T) + \n",
    "    \\mathscr{Ste}^{-1} \\frac{\\partial}{\\partial t} P(T) &= s_T\n",
    "\\end{align}$$\n",
    "\n",
    "where\n",
    "\n",
    "$$\n",
    "\\begin{align}\n",
    "    \\mathbf{D(u)} &= \\frac{1}{2}\\left(\\nabla\\mathbf{u} + \\nabla\\mathbf{u}^\\intercal\\right)\n",
    "\\end{align}\n",
    "$$\n",
    "\n",
    "We define a regularized phase function\n",
    "$$\n",
    "\\begin{align}\n",
    "    P(T;T_f,r) &= \\frac{1}{2}\\left(1 - \\tanh\\frac{T_f - T}{r}\\right)\n",
    "\\end{align}\n",
    "$$"
   ]
  },
  {
   "cell_type": "code",
   "execution_count": 7,
   "metadata": {},
   "outputs": [],
   "source": [
    "def P_general(T, T_f):\n",
    "    \n",
    "    return 0.5*(1. - tanh((T_f - T)/r))"
   ]
  },
  {
   "cell_type": "markdown",
   "metadata": {},
   "source": [
    "and a phase-dependent viscosity\n",
    "$$\n",
    "\\begin{align}\n",
    "    \\mu_{SL}(P(T)) &= \\mu_S + \\left(\\mu_L - \\mu_S\\right)P(T)\n",
    "\\end{align}\n",
    "$$"
   ]
  },
  {
   "cell_type": "code",
   "execution_count": 8,
   "metadata": {},
   "outputs": [],
   "source": [
    "def mu_SL_general(PofT, mu_S, mu_L):\n",
    "    \n",
    "    return mu_S + (mu_L - mu_S)*PofT"
   ]
  },
  {
   "cell_type": "markdown",
   "metadata": {},
   "source": [
    "In this notebook, we want to verify the Navier-Stokes-Boussinesq implementation while ignoring the energy equation. To this end, we set\n",
    "$$\\mathscr{Re} = 1, \\quad \\mathscr{Ra} = 1,\\quad \\mathscr{Pr} = 1,\\quad \\mathscr{Ste} = 1, \\quad C = 1, \\quad K = 0,\n",
    "\\quad T_f = 1, \\quad r = 0.5\\quad \\mu_L = 1,\\quad \\mu_S = 10$$"
   ]
  },
  {
   "cell_type": "code",
   "execution_count": 9,
   "metadata": {},
   "outputs": [],
   "source": [
    "Re = 1.\n",
    "\n",
    "Ra = 1.\n",
    "\n",
    "Pr = 1.\n",
    "\n",
    "Ste = 1.\n",
    "\n",
    "C = 1.\n",
    "\n",
    "K = 0.\n",
    "\n",
    "T_f = 1.\n",
    "\n",
    "mu_L = 1.\n",
    "\n",
    "mu_S = 10.\n",
    "\n",
    "def P(T):\n",
    "    \n",
    "    return P_general(T, T_f)\n",
    "\n",
    "\n",
    "def mu_SL(PofT):\n",
    "    \n",
    "    return mu_SL_general(PofT, mu_S, mu_L)\n",
    "\n",
    "\n",
    "r = 0.5"
   ]
  },
  {
   "cell_type": "markdown",
   "metadata": {},
   "source": [
    "Typically the right-hand sides are $\\mathbf{s} = \\left( s_p, \\mathbf{s_u}, s_T \\right)^\\intercal = \\mathbf{0}$, but we include $\\mathbf{s}$ as a generic source term to facilitate code verification via MMS."
   ]
  },
  {
   "cell_type": "markdown",
   "metadata": {},
   "source": [
    "# Select a buoyancy model\n",
    "For this study, we will only consider the linear buoyancy model from Danaila's simulation of the octadecane PCM melting benchmark, i.e.\n",
    "$$ \\begin{align}\n",
    "    \\mathbf{f}_B(T) = \\left(0, \\frac{-\\mathscr{Ra}}{\\mathscr{PrRe}^2}T\\right)^\\intercal\n",
    "\\end{align}$$"
   ]
  },
  {
   "cell_type": "code",
   "execution_count": 10,
   "metadata": {},
   "outputs": [],
   "source": [
    "f_B0 = 0.\n",
    "\n",
    "def f_B1(T):\n",
    "    \n",
    "    return -Ra/(Pr*Re*Re)*T\n",
    "\n",
    "\n",
    "def f_B(T):\n",
    "    \n",
    "    return f_B0*R.x + f_B1(T)*R.y"
   ]
  },
  {
   "cell_type": "markdown",
   "metadata": {},
   "source": [
    "# Manufacture solution\n",
    "\n",
    "To test the full capabilities of the implementation, we must select a solution where $\\mathbf{u}$ and $T$ are twice differentiable in space and once differentiable in time, and where $p$ is once differentiable in space. For the present study, we will only consider a two-dimensional solution.\n",
    "\n",
    "$$\n",
    "\\begin{align}\n",
    "    p_\\mathrm{MMS} &= e^{x + 2y}, \\\\\n",
    "    \\mathbf{u}_\\mathrm{MMS} &= e^{t} (\\sin{(3x + 4y)}, \\sin{(4x + 3y)})^\\intercal, \\\\\n",
    "    T_\\mathrm{MMS} &= e^{2x + y}\n",
    "\\end{align}\n",
    "$$"
   ]
  },
  {
   "cell_type": "code",
   "execution_count": 12,
   "metadata": {},
   "outputs": [
    {
     "name": "stdout",
     "output_type": "stream",
     "text": [
      "p = exp(R.x + 2.0*R.y)\n",
      "u = (exp(t)*sin(3.0*R.x + 4.0*R.y))*R.i + (exp(t)*sin(4.0*R.x + 3.0*R.y))*R.j\n",
      "T = exp(2.0*R.x + R.y)\n"
     ]
    }
   ],
   "source": [
    "p = exp(x + 2.*y)\n",
    "\n",
    "u0 = exp(t)*(sin(3.*x + 4.*y))\n",
    "\n",
    "u1 = exp(t)*(sin(4.*x + 3.*y))\n",
    "\n",
    "u = u0*R.i + u1*R.j\n",
    "\n",
    "T = exp(2.*x + y)\n",
    "    \n",
    "print(\"p = \" + str(p))\n",
    "\n",
    "print(\"u = \" + str(u))\n",
    "\n",
    "print(\"T = \" + str(T))"
   ]
  },
  {
   "cell_type": "markdown",
   "metadata": {},
   "source": [
    "# Derive the manufactured source term\n",
    "\n",
    "Given the manufactured solution, derive the manufactured source terms $\\mathbf{s}_{\\mathrm{MMS}}$ with SymPy. We can use SymPy's vector calculus capabilities for the mass and energy equations."
   ]
  },
  {
   "cell_type": "code",
   "execution_count": 13,
   "metadata": {},
   "outputs": [
    {
     "name": "stdout",
     "output_type": "stream",
     "text": [
      "s_p = 3.0*exp(t)*cos(3.0*R.x + 4.0*R.y) + 3.0*exp(t)*cos(4.0*R.x + 3.0*R.y)\n"
     ]
    }
   ],
   "source": [
    "s_p = div(u)\n",
    "\n",
    "print(\"s_p = \" + str(s_p))"
   ]
  },
  {
   "cell_type": "code",
   "execution_count": 14,
   "metadata": {},
   "outputs": [
    {
     "name": "stdout",
     "output_type": "stream",
     "text": [
      "s_T = 2.0*exp(t)*exp(2.0*R.x + R.y)*sin(3.0*R.x + 4.0*R.y) + 1.0*exp(t)*exp(2.0*R.x + R.y)*sin(4.0*R.x + 3.0*R.y) + 3.0*exp(t)*exp(2.0*R.x + R.y)*cos(3.0*R.x + 4.0*R.y) + 3.0*exp(t)*exp(2.0*R.x + R.y)*cos(4.0*R.x + 3.0*R.y)\n"
     ]
    }
   ],
   "source": [
    "s_T = diff(C*T, t) + div(C*T*u) - 1./Pr*div(K*grad(T)) + 1./Ste*diff(P(T), t)\n",
    "\n",
    "print(\"s_T = \" + str(s_T))"
   ]
  },
  {
   "cell_type": "markdown",
   "metadata": {},
   "source": [
    "The momentum equation is not as simple. SymPy cannot compute the gradient of a vector (which should yield a tensor). Furthermore, SymPy does not view operators as tensors, and hence we cannot take the tensor product between the gradient operator and a tensor. Therefore, we rewrite the momentum equation in matrix form and compute the three elements of the source term separately.\n",
    "\n",
    "The elements of the rate of strain tensor $\\mathbf{D(u)}$ are\n",
    "$$ \\begin{align}\n",
    "D_{ij}(\\mathbf{u}) = \\frac{1}{2}\\left(\\frac{\\partial}{\\partial x_j}u_i + \\frac{\\partial}{\\partial x_i} u_j\\right)\n",
    "\\end{align}$$\n",
    "\n",
    "If we believe in operator-valued matrices, then we can write the momentum equation as\n",
    "\n",
    "$$\\begin{equation}\n",
    "    \\frac{\\partial}{\\partial t} \n",
    "    \\left(\n",
    "        \\begin{array}{c}\n",
    "            u_0 \\\\\n",
    "            u_1\n",
    "        \\end{array}\n",
    "    \\right) +\n",
    "    \\left(\n",
    "        \\left(\n",
    "            \\begin{array}{c} \n",
    "                u_0 \\\\\n",
    "                u_1 \n",
    "            \\end{array}\n",
    "        \\right)\n",
    "        \\cdot\n",
    "        \\left(\n",
    "            \\begin{array}{c}\n",
    "                \\frac{\\partial}{\\partial x} \\\\\n",
    "                \\frac{\\partial}{\\partial y}\n",
    "            \\end{array}\n",
    "        \\right)\n",
    "    \\right)\n",
    "    \\left(\n",
    "        \\begin{array}{c}\n",
    "            u_0 \\\\\n",
    "            u_1\n",
    "        \\end{array}\n",
    "    \\right) \n",
    "    +\n",
    "    \\left(\n",
    "        \\begin{array}{c}\n",
    "            \\frac{\\partial}{\\partial x} \\\\\n",
    "            \\frac{\\partial}{\\partial y}\n",
    "        \\end{array}\n",
    "    \\right)\n",
    "    p -\n",
    "    \\left(\n",
    "        \\begin{array}{c}\n",
    "            \\frac{\\partial}{\\partial x} \\\\\n",
    "            \\frac{\\partial}{\\partial y}\n",
    "        \\end{array}\n",
    "    \\right)\n",
    "    \\cdot\n",
    "    \\left(\n",
    "        \\mu_{SL}\\left(P(T)\\right)\n",
    "        \\left[\n",
    "            \\begin{array}{c}\n",
    "                2\\frac{\\partial}{\\partial x}u_0 & \\frac{\\partial}{\\partial y}u_0 + \\frac{\\partial}{\\partial x}u_1 \\\\\n",
    "                \\frac{\\partial}{\\partial y}u_0 + \\frac{\\partial}{\\partial x}u_1 & 2\\frac{\\partial}{\\partial y}u_1\n",
    "            \\end{array}\n",
    "        \\right]\n",
    "    \\right)\n",
    "    +\n",
    "    \\left(\n",
    "        \\begin{array}{c}\n",
    "            f_{B,0}(T) \\\\\n",
    "            f_{B,1}(T)\n",
    "        \\end{array}\n",
    "    \\right)\n",
    "    =\n",
    "    \\left(\n",
    "        \\begin{array}{c}\n",
    "            s_{u,0} \\\\\n",
    "            s_{u,1}\n",
    "        \\end{array}\n",
    "    \\right)\n",
    "\\end{equation}$$"
   ]
  },
  {
   "cell_type": "markdown",
   "metadata": {},
   "source": [
    "SymPy does not believe in operator-valued matrices, so we apply the operators, yielding"
   ]
  },
  {
   "cell_type": "markdown",
   "metadata": {},
   "source": [
    "$$\\begin{equation}\n",
    "    \\frac{\\partial}{\\partial t} \n",
    "    \\left(\n",
    "        \\begin{array}{c}\n",
    "            u_0 \\\\\n",
    "            u_1\n",
    "        \\end{array}\n",
    "    \\right) +\n",
    "    \\left(\n",
    "        \\begin{array}{c} \n",
    "            u_0 \\frac{\\partial}{\\partial x} u_0 + u_1 \\frac{\\partial}{\\partial y} u_0\\\\\n",
    "            u_0 \\frac{\\partial}{\\partial x} u_1 + u_1 \\frac{\\partial}{\\partial y} u_1 \n",
    "        \\end{array}\n",
    "    \\right)\n",
    "    +\n",
    "    \\left(\n",
    "        \\begin{array}{c}\n",
    "            \\frac{\\partial}{\\partial x} p \\\\\n",
    "            \\frac{\\partial}{\\partial y} p\n",
    "        \\end{array}\n",
    "    \\right)\n",
    "    -\n",
    "    \\left(\n",
    "        \\begin{array}{c}\n",
    "            2\\frac{\\partial}{\\partial x} \\mu_{SL}(P(T)) \\frac{\\partial}{\\partial x} u_0 + \\frac{\\partial}{\\partial y} \\mu_{SL}(P(T)) \\left(\\frac{\\partial}{\\partial y}u_0 + \\frac{\\partial}{\\partial x}u_1 \\right) \\\\\n",
    "            2\\frac{\\partial}{\\partial y} \\mu_{SL}(P(T)) \\frac{\\partial}{\\partial y} u_1 + \\frac{\\partial}{\\partial x} \\mu_{SL}(P(T)) \\left(\\frac{\\partial}{\\partial y}u_0 + \\frac{\\partial}{\\partial x}u_1 \\right)\n",
    "        \\end{array}\n",
    "    \\right)\n",
    "    +\n",
    "    \\left(\n",
    "        \\begin{array}{c}\n",
    "            f_{B,0}(T) \\\\\n",
    "            f_{B,1}(T)\n",
    "        \\end{array}\n",
    "    \\right)\n",
    "    =\n",
    "    \\left(\n",
    "        \\begin{array}{c}\n",
    "            s_{u,0} \\\\\n",
    "            s_{u,1}\n",
    "        \\end{array}\n",
    "    \\right)\n",
    "\\end{equation}$$"
   ]
  },
  {
   "cell_type": "code",
   "execution_count": 15,
   "metadata": {},
   "outputs": [
    {
     "name": "stdout",
     "output_type": "stream",
     "text": [
      "s_u0 = 9.0*(4.0*exp(t)*cos(3.0*R.x + 4.0*R.y) + 4.0*exp(t)*cos(4.0*R.x + 3.0*R.y))*(-tanh(-2.0*exp(2.0*R.x + R.y) + 2.0)**2 + 1)*exp(2.0*R.x + R.y) + 108.0*(-tanh(-2.0*exp(2.0*R.x + R.y) + 2.0)**2 + 1)*exp(t)*exp(2.0*R.x + R.y)*cos(3.0*R.x + 4.0*R.y) + 3.0*exp(2*t)*sin(3.0*R.x + 4.0*R.y)*cos(3.0*R.x + 4.0*R.y) + 4.0*exp(2*t)*sin(4.0*R.x + 3.0*R.y)*cos(3.0*R.x + 4.0*R.y) + exp(t)*sin(3.0*R.x + 4.0*R.y) + exp(R.x + 2.0*R.y)\n",
      "s_u1 = 18.0*(4.0*exp(t)*cos(3.0*R.x + 4.0*R.y) + 4.0*exp(t)*cos(4.0*R.x + 3.0*R.y))*(-tanh(-2.0*exp(2.0*R.x + R.y) + 2.0)**2 + 1)*exp(2.0*R.x + R.y) + 54.0*(-tanh(-2.0*exp(2.0*R.x + R.y) + 2.0)**2 + 1)*exp(t)*exp(2.0*R.x + R.y)*cos(4.0*R.x + 3.0*R.y) + 4.0*exp(2*t)*sin(3.0*R.x + 4.0*R.y)*cos(4.0*R.x + 3.0*R.y) + 3.0*exp(2*t)*sin(4.0*R.x + 3.0*R.y)*cos(4.0*R.x + 3.0*R.y) + exp(t)*sin(4.0*R.x + 3.0*R.y) + 2.0*exp(R.x + 2.0*R.y) - 1.0*exp(2.0*R.x + R.y)\n"
     ]
    }
   ],
   "source": [
    "s_u0 = diff(u0, t) + u0*diff(u0, x) + u1*diff(u0, y) + diff(p, x) - (2.*diff(mu_SL(P(T)), x)*diff(u0, x) + diff(mu_SL(P(T)), y)*(diff(u0, y) + diff(u1, x))) + f_B0\n",
    "\n",
    "print(\"s_u0 = \" + str(s_u0))\n",
    "\n",
    "s_u1 = diff(u1, t) + u0*diff(u1, x) + u1*diff(u1, y) + diff(p, y) - (2.*diff(mu_SL(P(T)), y)*diff(u1, y) + diff(mu_SL(P(T)), x)*(diff(u0, y) + diff(u1, x))) + f_B1(T)\n",
    "\n",
    "print(\"s_u1 = \" + str(s_u1))"
   ]
  },
  {
   "cell_type": "markdown",
   "metadata": {},
   "source": [
    "# Solve the manufactured problem with Phaseflow"
   ]
  },
  {
   "cell_type": "markdown",
   "metadata": {},
   "source": [
    "Evaluate initial values. FEniCS has a slightly different syntax than SymPy, which we handle here."
   ]
  },
  {
   "cell_type": "code",
   "execution_count": 16,
   "metadata": {},
   "outputs": [
    {
     "name": "stdout",
     "output_type": "stream",
     "text": [
      "['1.0*sin(3.0*x[0] + 4.0*x[1])', '1.0*sin(4.0*x[0] + 3.0*x[1])', 'exp(x[0] + 2.0*x[1])', 'exp(2.0*x[0] + x[1])']\n"
     ]
    }
   ],
   "source": [
    "initial_values = [u0, u1, p, T]\n",
    "\n",
    "initial_values[:] = [ \\\n",
    "    str(expression.subs(t, 0.)).replace(\"R.x\", \"x[0]\").replace(\"R.y\", \"x[1]\") \\\n",
    "    for expression in initial_values]\n",
    "\n",
    "print(initial_values)"
   ]
  },
  {
   "cell_type": "code",
   "execution_count": 17,
   "metadata": {},
   "outputs": [
    {
     "name": "stdout",
     "output_type": "stream",
     "text": [
      "['exp(t)*sin(3.0*x[0] + 4.0*x[1])', 'exp(t)*sin(4.0*x[0] + 3.0*x[1])', 'exp(x[0] + 2.0*x[1])', 'exp(2.0*x[0] + x[1])']\n"
     ]
    }
   ],
   "source": [
    "bcs = [u0, u1, p, T]\n",
    "\n",
    "bcs[:] = \\\n",
    "    [str(expression).replace(\"R.x\", \"x[0]\").replace(\"R.y\", \"x[1]\") \\\n",
    "    for expression in bcs]\n",
    "\n",
    "print(bcs)"
   ]
  },
  {
   "cell_type": "markdown",
   "metadata": {},
   "source": [
    "Some of the source terms involve raising a variable to the second power.  FEniCS expects the C++ syntax for this instead of the Python syntax. Lucky for us, SymPy can write the C code. We have to get a bit tricky here."
   ]
  },
  {
   "cell_type": "code",
   "execution_count": 18,
   "metadata": {},
   "outputs": [
    {
     "name": "stdout",
     "output_type": "stream",
     "text": [
      "['(36.0*exp(t)*cos(3.0*x[0] + 4.0*x[1]) + 36.0*exp(t)*cos(4.0*x[0] + 3.0*x[1]))*(-pow(tanh(-2.0*exp(2.0*x[0] + x[1]) + 2.0), 2) + 1)*exp(2.0*x[0] + x[1]) + (-108.0*pow(tanh(-2.0*exp(2.0*x[0] + x[1]) + 2.0), 2) + 108.0)*exp(t)*exp(2.0*x[0] + x[1])*cos(3.0*x[0] + 4.0*x[1]) + 3.0*exp(2*t)*sin(3.0*x[0] + 4.0*x[1])*cos(3.0*x[0] + 4.0*x[1]) + 4.0*exp(2*t)*sin(4.0*x[0] + 3.0*x[1])*cos(3.0*x[0] + 4.0*x[1]) + exp(t)*sin(3.0*x[0] + 4.0*x[1]) + exp(x[0] + 2.0*x[1])', '(72.0*exp(t)*cos(3.0*x[0] + 4.0*x[1]) + 72.0*exp(t)*cos(4.0*x[0] + 3.0*x[1]))*(-pow(tanh(-2.0*exp(2.0*x[0] + x[1]) + 2.0), 2) + 1)*exp(2.0*x[0] + x[1]) + (-54.0*pow(tanh(-2.0*exp(2.0*x[0] + x[1]) + 2.0), 2) + 54.0)*exp(t)*exp(2.0*x[0] + x[1])*cos(4.0*x[0] + 3.0*x[1]) + 4.0*exp(2*t)*sin(3.0*x[0] + 4.0*x[1])*cos(4.0*x[0] + 3.0*x[1]) + 3.0*exp(2*t)*sin(4.0*x[0] + 3.0*x[1])*cos(4.0*x[0] + 3.0*x[1]) + exp(t)*sin(4.0*x[0] + 3.0*x[1]) + 2.0*exp(x[0] + 2.0*x[1]) - 1.0*exp(2.0*x[0] + x[1])', '3.0*exp(t)*cos(3.0*x[0] + 4.0*x[1]) + 3.0*exp(t)*cos(4.0*x[0] + 3.0*x[1])', '2.0*exp(t)*exp(2.0*x[0] + x[1])*sin(3.0*x[0] + 4.0*x[1]) + 1.0*exp(t)*exp(2.0*x[0] + x[1])*sin(4.0*x[0] + 3.0*x[1]) + 3.0*exp(t)*exp(2.0*x[0] + x[1])*cos(3.0*x[0] + 4.0*x[1]) + 3.0*exp(t)*exp(2.0*x[0] + x[1])*cos(4.0*x[0] + 3.0*x[1])']\n"
     ]
    }
   ],
   "source": [
    "sources = [s_u0, s_u1, s_p, s_T]\n",
    "\n",
    "sources[:] = \\\n",
    "    [str(expression).replace(\"R.x\", \"xtemp\").replace(\"R.y\", \"ytemp\") \\\n",
    "    for expression in sources]\n",
    "\n",
    "sources[:] = [sympy.ccode(expression) for expression in sources]\n",
    "\n",
    "sources[:] = \\\n",
    "    [str(expression).replace(\"xtemp\", \"x[0]\").replace(\"ytemp\", \"x[1]\") \\\n",
    "    for expression in sources]\n",
    "\n",
    "print(sources)"
   ]
  },
  {
   "cell_type": "markdown",
   "metadata": {},
   "source": [
    "Define a function that will run the manufactured problem for a given grid size and time step size."
   ]
  },
  {
   "cell_type": "code",
   "execution_count": 30,
   "metadata": {},
   "outputs": [],
   "source": [
    "import phaseflow\n",
    "\n",
    "\n",
    "end_time = 1.\n",
    "\n",
    "def run(nx, nt):\n",
    "    \n",
    "    output_dir = \"output/nt/\" + str(nt) + \"/nx/\" + str(nx) + \"/\"\n",
    "    \n",
    "    mesh = fenics.UnitSquareMesh(nx, nx)\n",
    "    \n",
    "    w, mesh = phaseflow.run(\n",
    "        stefan_number = Ste,\n",
    "        rayleigh_number = Ra,\n",
    "        prandtl_number = Pr,\n",
    "        solid_viscosity = mu_S,\n",
    "        liquid_viscosity = mu_L,\n",
    "        mesh = mesh,\n",
    "        time_step_size = end_time/float(nt),\n",
    "        start_time = 0.,\n",
    "        end_time = end_time,\n",
    "        temperature_of_fusion = T_f,\n",
    "        regularization_smoothing_factor = r,\n",
    "        adaptive = False,\n",
    "        adaptive_metric = 'phase_only',\n",
    "        initial_values_expression = (\n",
    "            initial_values[0],\n",
    "            initial_values[1],\n",
    "            initial_values[2],\n",
    "            initial_values[3]),\n",
    "        boundary_conditions = [\n",
    "            {'subspace': 0, 'value_expression': (bcs[0], bcs[1]), 'degree': 3,\n",
    "                'location_expression': \"near(x[0],  0.) | near(x[0],  1.) | near(x[1], 0.) | near(x[1],  1.)\",\n",
    "                'method': \"topological\"},\n",
    "            {'subspace': 1, 'value_expression': bcs[2], 'degree': 2,\n",
    "                'location_expression': \"near(x[0],  0.) | near(x[0],  1.) | near(x[1], 0.) | near(x[1],  1.)\",\n",
    "                'method': \"topological\"},\n",
    "            {'subspace': 2, 'value_expression': bcs[3], 'degree': 2,\n",
    "                'location_expression': \"near(x[0],  0.) | near(x[0],  1.) | near(x[1], 0.) | near(x[1],  1.)\",\n",
    "                'method': \"topological\"}],\n",
    "        source_expression = sources,\n",
    "        output_dir = output_dir)\n",
    "    \n",
    "    return w"
   ]
  },
  {
   "cell_type": "markdown",
   "metadata": {},
   "source": [
    "Solve the problem for varied time step sizes to verify temporal accuracy. Tablulate the L2-norm errors."
   ]
  },
  {
   "cell_type": "code",
   "execution_count": 41,
   "metadata": {},
   "outputs": [
    {
     "name": "stdout",
     "output_type": "stream",
     "text": [
      "['exp(t)*sin(3.0*x[0] + 4.0*x[1])', 'exp(t)*sin(4.0*x[0] + 3.0*x[1])', 'exp(x[0] + 2.0*x[1])', 'exp(2.0*x[0] + x[1])']\n",
      "Running Phaseflow with the following arguments:\n",
      "({'prandtl_number': 1.0, 'thermal_conductivity': 1.0, 'nlp_absolute_tolerance': 1e-08, 'time_step_size': 0.125, 'prescribed_viscosity_expression': '1.', 'nlp_relative_tolerance': 1e-08, 'source_expression': ['(36.0*exp(t)*cos(3.0*x[0] + 4.0*x[1]) + 36.0*exp(t)*cos(4.0*x[0] + 3.0*x[1]))*(-pow(tanh(-2.0*exp(2.0*x[0] + x[1]) + 2.0), 2) + 1)*exp(2.0*x[0] + x[1]) + (-108.0*pow(tanh(-2.0*exp(2.0*x[0] + x[1]) + 2.0), 2) + 108.0)*exp(t)*exp(2.0*x[0] + x[1])*cos(3.0*x[0] + 4.0*x[1]) + 3.0*exp(2*t)*sin(3.0*x[0] + 4.0*x[1])*cos(3.0*x[0] + 4.0*x[1]) + 4.0*exp(2*t)*sin(4.0*x[0] + 3.0*x[1])*cos(3.0*x[0] + 4.0*x[1]) + exp(t)*sin(3.0*x[0] + 4.0*x[1]) + exp(x[0] + 2.0*x[1])', '(72.0*exp(t)*cos(3.0*x[0] + 4.0*x[1]) + 72.0*exp(t)*cos(4.0*x[0] + 3.0*x[1]))*(-pow(tanh(-2.0*exp(2.0*x[0] + x[1]) + 2.0), 2) + 1)*exp(2.0*x[0] + x[1]) + (-54.0*pow(tanh(-2.0*exp(2.0*x[0] + x[1]) + 2.0), 2) + 54.0)*exp(t)*exp(2.0*x[0] + x[1])*cos(4.0*x[0] + 3.0*x[1]) + 4.0*exp(2*t)*sin(3.0*x[0] + 4.0*x[1])*cos(4.0*x[0] + 3.0*x[1]) + 3.0*exp(2*t)*sin(4.0*x[0] + 3.0*x[1])*cos(4.0*x[0] + 3.0*x[1]) + exp(t)*sin(4.0*x[0] + 3.0*x[1]) + 2.0*exp(x[0] + 2.0*x[1]) - 1.0*exp(2.0*x[0] + x[1])', '3.0*exp(t)*cos(3.0*x[0] + 4.0*x[1]) + 3.0*exp(t)*cos(4.0*x[0] + 3.0*x[1])', '2.0*exp(t)*exp(2.0*x[0] + x[1])*sin(3.0*x[0] + 4.0*x[1]) + 1.0*exp(t)*exp(2.0*x[0] + x[1])*sin(4.0*x[0] + 3.0*x[1]) + 3.0*exp(t)*exp(2.0*x[0] + x[1])*cos(3.0*x[0] + 4.0*x[1]) + 3.0*exp(t)*exp(2.0*x[0] + x[1])*cos(4.0*x[0] + 3.0*x[1])'], 'boundary_conditions': [{'subspace': 0, 'location_expression': 'near(x[0],  0.) | near(x[0],  1.) | near(x[1], 0.) | near(x[1],  1.)', 'method': 'topological', 'value_expression': ('exp(t)*sin(3.0*x[0] + 4.0*x[1])', 'exp(t)*sin(4.0*x[0] + 3.0*x[1])'), 'degree': 3}, {'subspace': 1, 'location_expression': 'near(x[0],  0.) | near(x[0],  1.) | near(x[1], 0.) | near(x[1],  1.)', 'method': 'topological', 'value_expression': 'exp(x[0] + 2.0*x[1])', 'degree': 2}, {'subspace': 2, 'location_expression': 'near(x[0],  0.) | near(x[0],  1.) | near(x[1], 0.) | near(x[1],  1.)', 'method': 'topological', 'value_expression': 'exp(2.0*x[0] + x[1])', 'degree': 2}], 'ddT_m_B': <function run.<locals>.ddT_m_B at 0x7ff9986b32f0>, 'phase_dependent_viscosity': True, 'regularization_smoothing_factor': 0.5, 'nlp_max_iterations': 50, 'restart_filepath': '', 'm_B': <function run.<locals>.m_B at 0x7ff9986b3158>, 'stop_when_steady': True, 'liquid_viscosity': 1.0, 'temperature_of_fusion': 1.0, 'mesh': <dolfin.cpp.mesh.UnitSquareMesh; proxy of <Swig Object of type 'std::shared_ptr< dolfin::UnitSquareMesh > *' at 0x7ff9986a2240> >, 'penalty_parameter': 1e-07, 'start_time': 0.0, 'steady_relative_tolerance': 0.0001, 'initial_values_expression': ('1.0*sin(3.0*x[0] + 4.0*x[1])', '1.0*sin(4.0*x[0] + 3.0*x[1])', 'exp(x[0] + 2.0*x[1])', 'exp(2.0*x[0] + x[1])'), 'stefan_number': 1.0, 'heat_capacity': 1.0, 'gravity': (0.0, -1.0), 'adaptive_solver_tolerance': 0.0001, 'rayleigh_number': 1.0, 'adaptive_metric': 'phase_only', 'end_time': 1.0, 'output_dir': 'output/nt/8/nx/32/', 'solid_viscosity': 10.0, 'adaptive': False, 'restart': False}, [])\n",
      "Running 2D problem\n",
      "Writing solution to HDF5+XDMF\n",
      "Reached time t = 0.125\n",
      "Writing solution to HDF5+XDMF\n",
      "Unsteadiness (L2 norm of relative time residual), || w_{n+1} || / || w_n || = 23.255432981129726\n",
      "Reached time t = 0.25\n",
      "Writing solution to HDF5+XDMF\n",
      "Unsteadiness (L2 norm of relative time residual), || w_{n+1} || / || w_n || = 0.016778798412560397\n",
      "Reached time t = 0.375\n",
      "Writing solution to HDF5+XDMF\n",
      "Unsteadiness (L2 norm of relative time residual), || w_{n+1} || / || w_n || = 0.00039458926112910243\n",
      "Reached time t = 0.5\n",
      "Writing solution to HDF5+XDMF\n",
      "Unsteadiness (L2 norm of relative time residual), || w_{n+1} || / || w_n || = 8.17919272236349e-05\n",
      "Reached steady state at time t = 0.5\n"
     ]
    },
    {
     "ename": "RuntimeError",
     "evalue": "\n\n*** -------------------------------------------------------------------------\n*** DOLFIN encountered an error. If you are not able to resolve this issue\n*** using the information listed below, you can ask for help at\n***\n***     fenics-support@googlegroups.com\n***\n*** Remember to include the error message listed below and, if possible,\n*** include a *minimal* running example to reproduce the error.\n***\n*** -------------------------------------------------------------------------\n*** Error:   Unable to compute error norm.\n*** Reason:  Expecting a Function for uh.\n*** Where:   This error was encountered inside norms.py.\n*** Process: 0\n*** \n*** DOLFIN version: 2017.1.0\n*** Git changeset:  7215d3707edbf33a51e7b4bc3dfc8d67922651a2\n*** -------------------------------------------------------------------------\n",
     "output_type": "error",
     "traceback": [
      "\u001b[0;31m---------------------------------------------------------------------------\u001b[0m",
      "\u001b[0;31mRuntimeError\u001b[0m                              Traceback (most recent call last)",
      "\u001b[0;32m<ipython-input-41-a4eff7b1e445>\u001b[0m in \u001b[0;36m<module>\u001b[0;34m()\u001b[0m\n\u001b[1;32m     19\u001b[0m     \u001b[0merror_table\u001b[0m \u001b[0;34m+=\u001b[0m \u001b[0mstr\u001b[0m\u001b[0;34m(\u001b[0m\u001b[0mnx\u001b[0m\u001b[0;34m)\u001b[0m \u001b[0;34m+\u001b[0m \u001b[0;34m\", \"\u001b[0m \u001b[0;34m+\u001b[0m \u001b[0mstr\u001b[0m\u001b[0;34m(\u001b[0m\u001b[0mnt\u001b[0m\u001b[0;34m)\u001b[0m \u001b[0;34m+\u001b[0m \u001b[0;34m\", \"\u001b[0m\u001b[0;34m\u001b[0m\u001b[0m\n\u001b[1;32m     20\u001b[0m \u001b[0;34m\u001b[0m\u001b[0m\n\u001b[0;32m---> 21\u001b[0;31m     \u001b[0merror_table\u001b[0m \u001b[0;34m+=\u001b[0m \u001b[0mstr\u001b[0m\u001b[0;34m(\u001b[0m\u001b[0mfenics\u001b[0m\u001b[0;34m.\u001b[0m\u001b[0merrornorm\u001b[0m\u001b[0;34m(\u001b[0m\u001b[0mfenics\u001b[0m\u001b[0;34m.\u001b[0m\u001b[0mExpression\u001b[0m\u001b[0;34m(\u001b[0m\u001b[0msolution\u001b[0m\u001b[0;34m[\u001b[0m\u001b[0;36m0\u001b[0m\u001b[0;34m]\u001b[0m\u001b[0;34m,\u001b[0m \u001b[0mdegree\u001b[0m\u001b[0;34m=\u001b[0m\u001b[0;36m3\u001b[0m\u001b[0;34m)\u001b[0m\u001b[0;34m,\u001b[0m \u001b[0mu_h\u001b[0m\u001b[0;34m[\u001b[0m\u001b[0;36m0\u001b[0m\u001b[0;34m]\u001b[0m\u001b[0;34m,\u001b[0m \u001b[0;34m\"L2\"\u001b[0m\u001b[0;34m)\u001b[0m\u001b[0;34m)\u001b[0m \u001b[0;34m+\u001b[0m \u001b[0;34m\", \"\u001b[0m\u001b[0;34m\u001b[0m\u001b[0m\n\u001b[0m\u001b[1;32m     22\u001b[0m \u001b[0;34m\u001b[0m\u001b[0m\n\u001b[1;32m     23\u001b[0m     \u001b[0merror_table\u001b[0m \u001b[0;34m+=\u001b[0m \u001b[0mstr\u001b[0m\u001b[0;34m(\u001b[0m\u001b[0mfenics\u001b[0m\u001b[0;34m.\u001b[0m\u001b[0merrornorm\u001b[0m\u001b[0;34m(\u001b[0m\u001b[0mfenics\u001b[0m\u001b[0;34m.\u001b[0m\u001b[0mExpression\u001b[0m\u001b[0;34m(\u001b[0m\u001b[0msolution\u001b[0m\u001b[0;34m[\u001b[0m\u001b[0;36m1\u001b[0m\u001b[0;34m]\u001b[0m\u001b[0;34m,\u001b[0m \u001b[0mdegree\u001b[0m\u001b[0;34m=\u001b[0m\u001b[0;36m3\u001b[0m\u001b[0;34m)\u001b[0m\u001b[0;34m,\u001b[0m \u001b[0mu_h\u001b[0m\u001b[0;34m[\u001b[0m\u001b[0;36m1\u001b[0m\u001b[0;34m]\u001b[0m\u001b[0;34m,\u001b[0m \u001b[0;34m\"L2\"\u001b[0m\u001b[0;34m)\u001b[0m\u001b[0;34m)\u001b[0m \u001b[0;34m+\u001b[0m \u001b[0;34m\", \"\u001b[0m\u001b[0;34m\u001b[0m\u001b[0m\n",
      "\u001b[0;32m/usr/lib/python3/dist-packages/dolfin/fem/norms.py\u001b[0m in \u001b[0;36merrornorm\u001b[0;34m(u, uh, norm_type, degree_rise, mesh)\u001b[0m\n\u001b[1;32m    219\u001b[0m         cpp.dolfin_error(\"norms.py\",\n\u001b[1;32m    220\u001b[0m                          \u001b[0;34m\"compute error norm\"\u001b[0m\u001b[0;34m,\u001b[0m\u001b[0;34m\u001b[0m\u001b[0m\n\u001b[0;32m--> 221\u001b[0;31m                          \"Expecting a Function for uh\")\n\u001b[0m\u001b[1;32m    222\u001b[0m \u001b[0;34m\u001b[0m\u001b[0m\n\u001b[1;32m    223\u001b[0m     \u001b[0;31m# Get mesh\u001b[0m\u001b[0;34m\u001b[0m\u001b[0;34m\u001b[0m\u001b[0m\n",
      "\u001b[0;32m/usr/lib/python3/dist-packages/dolfin/cpp/common.py\u001b[0m in \u001b[0;36mdolfin_error\u001b[0;34m(location, task, reason)\u001b[0m\n\u001b[1;32m   2837\u001b[0m \u001b[0;34m\u001b[0m\u001b[0m\n\u001b[1;32m   2838\u001b[0m     \"\"\"\n\u001b[0;32m-> 2839\u001b[0;31m     \u001b[0;32mreturn\u001b[0m \u001b[0m_common\u001b[0m\u001b[0;34m.\u001b[0m\u001b[0mdolfin_error\u001b[0m\u001b[0;34m(\u001b[0m\u001b[0mlocation\u001b[0m\u001b[0;34m,\u001b[0m \u001b[0mtask\u001b[0m\u001b[0;34m,\u001b[0m \u001b[0mreason\u001b[0m\u001b[0;34m)\u001b[0m\u001b[0;34m\u001b[0m\u001b[0m\n\u001b[0m\u001b[1;32m   2840\u001b[0m \u001b[0;34m\u001b[0m\u001b[0m\n\u001b[1;32m   2841\u001b[0m \u001b[0;32mdef\u001b[0m \u001b[0mdeprecation\u001b[0m\u001b[0;34m(\u001b[0m\u001b[0mfeature\u001b[0m\u001b[0;34m:\u001b[0m \u001b[0;34m'std::string'\u001b[0m\u001b[0;34m,\u001b[0m \u001b[0mversion_deprecated\u001b[0m\u001b[0;34m:\u001b[0m \u001b[0;34m'std::string'\u001b[0m\u001b[0;34m,\u001b[0m \u001b[0mmessage\u001b[0m\u001b[0;34m:\u001b[0m \u001b[0;34m'std::string'\u001b[0m\u001b[0;34m)\u001b[0m \u001b[0;34m->\u001b[0m \u001b[0;34m\"void\"\u001b[0m\u001b[0;34m:\u001b[0m\u001b[0;34m\u001b[0m\u001b[0m\n",
      "\u001b[0;31mRuntimeError\u001b[0m: \n\n*** -------------------------------------------------------------------------\n*** DOLFIN encountered an error. If you are not able to resolve this issue\n*** using the information listed below, you can ask for help at\n***\n***     fenics-support@googlegroups.com\n***\n*** Remember to include the error message listed below and, if possible,\n*** include a *minimal* running example to reproduce the error.\n***\n*** -------------------------------------------------------------------------\n*** Error:   Unable to compute error norm.\n*** Reason:  Expecting a Function for uh.\n*** Where:   This error was encountered inside norms.py.\n*** Process: 0\n*** \n*** DOLFIN version: 2017.1.0\n*** Git changeset:  7215d3707edbf33a51e7b4bc3dfc8d67922651a2\n*** -------------------------------------------------------------------------\n"
     ]
    }
   ],
   "source": [
    "import fenics\n",
    "\n",
    "solution = [u0, u1, p]\n",
    "\n",
    "solution[:] = [ \\\n",
    "    str(expression.subs(t, end_time)).replace(\"R.x\", \"x[0]\").replace(\"R.y\", \"x[1]\") \\\n",
    "    for expression in solution]\n",
    "\n",
    "print(bcs)\n",
    "\n",
    "error_table = \"nx, nt, L2Error_u0, L2Error_u1, L2Error_p\\n\"\n",
    "\n",
    "nx = 32\n",
    "\n",
    "for nt in [8, 16, 32]:\n",
    "    \n",
    "    w = run(nx, nt)\n",
    "    \n",
    "    u_h, p_h, T_h = fenics.split(w)\n",
    "    \n",
    "    error_table += str(nx) + \", \" + str(nt) + \", \"\n",
    "                    \n",
    "    error_table += str(fenics.errornorm(fenics.Expression(solution[0], degree=3), u_h[0], \"L2\")) + \", \"\n",
    "                    \n",
    "    error_table += str(fenics.errornorm(fenics.Expression(solution[1], degree=3), u_h[1], \"L2\")) + \", \"\n",
    "                    \n",
    "    error_table += str(fenics.errornorm(fenics.Expression(solution[2], degree=2), p_h, \"L2\")) + \"\\n\"\n",
    "    \n",
    "    print(error_table)"
   ]
  },
  {
   "cell_type": "code",
   "execution_count": 43,
   "metadata": {},
   "outputs": [
    {
     "name": "stdout",
     "output_type": "stream",
     "text": [
      "<class 'ufl.indexed.Indexed'>\n"
     ]
    }
   ],
   "source": [
    "print(type(u_h[0]))\n"
   ]
  },
  {
   "cell_type": "code",
   "execution_count": 44,
   "metadata": {},
   "outputs": [
    {
     "name": "stdout",
     "output_type": "stream",
     "text": [
      "<class 'dolfin.functions.function.Function'>\n"
     ]
    }
   ],
   "source": [
    "print(type(w))"
   ]
  },
  {
   "cell_type": "code",
   "execution_count": 45,
   "metadata": {},
   "outputs": [
    {
     "name": "stdout",
     "output_type": "stream",
     "text": [
      "<class 'ufl.indexed.Indexed'>\n"
     ]
    }
   ],
   "source": [
    "print(type(w[0]))"
   ]
  },
  {
   "cell_type": "code",
   "execution_count": null,
   "metadata": {},
   "outputs": [],
   "source": []
  }
 ],
 "metadata": {
  "kernelspec": {
   "display_name": "Python 3",
   "language": "python",
   "name": "python3"
  },
  "language_info": {
   "codemirror_mode": {
    "name": "ipython",
    "version": 3
   },
   "file_extension": ".py",
   "mimetype": "text/x-python",
   "name": "python",
   "nbconvert_exporter": "python",
   "pygments_lexer": "ipython3",
   "version": "3.5.2"
  }
 },
 "nbformat": 4,
 "nbformat_minor": 2
}
