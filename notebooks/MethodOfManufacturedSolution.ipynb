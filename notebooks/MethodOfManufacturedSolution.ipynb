{
 "cells": [
  {
   "cell_type": "markdown",
   "metadata": {},
   "source": [
    "In this notebook, we use the [method of manufactured solutions](http://prod.sandia.gov/techlib/access-control.cgi/2000/001444.pdf) to verify that [Phaseflow](https://github.com/geo-fluid-dynamics/phaseflow-fenics) correctly solves its governing equations."
   ]
  },
  {
   "cell_type": "markdown",
   "metadata": {},
   "source": [
    "# Set up this Jupyter notebook\n",
    "Enable equation numbering:"
   ]
  },
  {
   "cell_type": "code",
   "execution_count": 1,
   "metadata": {},
   "outputs": [
    {
     "data": {
      "application/javascript": [
       "MathJax.Hub.Config({\n",
       "  TeX: { equationNumbers: { autoNumber: \"AMS\" } }\n",
       "});"
      ],
      "text/plain": [
       "<IPython.core.display.Javascript object>"
      ]
     },
     "metadata": {},
     "output_type": "display_data"
    }
   ],
   "source": [
    "%%javascript\n",
    "MathJax.Hub.Config({\n",
    "  TeX: { equationNumbers: { autoNumber: \"AMS\" } }\n",
    "});"
   ]
  },
  {
   "cell_type": "markdown",
   "metadata": {},
   "source": [
    "# Set up SymPy"
   ]
  },
  {
   "cell_type": "code",
   "execution_count": 2,
   "metadata": {},
   "outputs": [],
   "source": [
    "import sympy\n",
    "import sympy.vector\n",
    "from sympy.vector import divergence as div, gradient as grad\n",
    "\n",
    "t = sympy.symbols('t')\n",
    "\n",
    "R = sympy.vector.CoordSys3D('R')\n",
    "\n",
    "diff, exp, sin, tanh, transpose = sympy.diff, sympy.exp, sympy.sin, sympy.tanh, sympy.transpose\n",
    "\n",
    "x, y, z = R.x, R.y, R.z"
   ]
  },
  {
   "cell_type": "markdown",
   "metadata": {},
   "source": [
    "# Define the governing equations\n",
    "The governing equations are\n",
    "\n",
    "$$\\begin{align}\n",
    "    \\nabla\\cdot\\mathbf{u} &= s_p, \\\\\n",
    "    \\frac{\\partial}{\\partial t}\\mathbf{u} + \\left(\\mathbf{u}\\cdot\\nabla\\right)\\mathbf{u} + \\nabla p - \\nabla\\cdot\\left(2 \\mu_{SL}\\left((P(T)\\right) \\mathbf{D(u)}\\right) \n",
    "    + \\mathbf{f}_B(T) &= \\mathbf{s_u}, \\\\\n",
    "    \\frac{\\partial}{\\partial t}(CT) + \\nabla\\cdot(CT\\mathbf{u}) \n",
    "    - \\mathscr{Pr}^{-1}\\nabla\\cdot(K\\nabla T) + \n",
    "    \\mathscr{Ste}^{-1} \\frac{\\partial}{\\partial t} P(T) &= s_T\n",
    "\\end{align}$$\n",
    "\n",
    "where\n",
    "\n",
    "$$\n",
    "\\begin{align}\n",
    "    \\mathbf{D(u)} &= \\frac{1}{2}\\left(\\nabla\\mathbf{u} + \\nabla\\mathbf{u}^\\intercal\\right)\n",
    "\\end{align}\n",
    "$$\n",
    "\n",
    "We define a regularized phase function\n",
    "$$\n",
    "\\begin{align}\n",
    "    P(T;T_f,r) &= \\frac{1}{2}\\left(1 - \\tanh\\frac{T_f - T}{r}\\right)\n",
    "\\end{align}\n",
    "$$"
   ]
  },
  {
   "cell_type": "code",
   "execution_count": 3,
   "metadata": {},
   "outputs": [],
   "source": [
    "def P_general(T, T_f):\n",
    "    \n",
    "    return 0.5*(1. - tanh((T_f - T)/r))"
   ]
  },
  {
   "cell_type": "markdown",
   "metadata": {},
   "source": [
    "and a phase-dependent viscosity\n",
    "$$\n",
    "\\begin{align}\n",
    "    \\mu_{SL}(P(T)) &= \\mu_S + \\left(\\mu_L - \\mu_S\\right)P(T)\n",
    "\\end{align}\n",
    "$$"
   ]
  },
  {
   "cell_type": "code",
   "execution_count": 4,
   "metadata": {},
   "outputs": [],
   "source": [
    "def mu_SL_general(PofT, mu_S, mu_L):\n",
    "    \n",
    "    return mu_S + (mu_L - mu_S)*PofT"
   ]
  },
  {
   "cell_type": "markdown",
   "metadata": {},
   "source": [
    "though for this study we will only consider the physical parameters from the octadecane melting benchmark\n",
    "$$\\mathscr{Re} = 1, \\quad \\mathscr{Ra} = 3.27\\times10^5,\\quad \\mathscr{Pr} = 56.2,\\quad \\mathscr{Ste} = 0.045, \\quad C = 1, \\quad K = 1$$\n",
    "and the numerical parameters from danaila2014newton\n",
    "$$T_f = 0.01,\\quad \\mu_L = 1,\\quad \\mu_S = 10^8$$\n",
    "except we use a larger $r$ than from that paper. While testing Phaseflow so far, small smoothing parameters $r$ have destabilized the Newton solver. For the current MMS verification, we will use $r = 0.025$, the value from [the toy PCM melting regression test](https://github.com/geo-fluid-dynamics/phaseflow-fenics/blob/master/tests/test_melt_pcm.py)."
   ]
  },
  {
   "cell_type": "code",
   "execution_count": 5,
   "metadata": {},
   "outputs": [],
   "source": [
    "Re = 1.\n",
    "\n",
    "Ra = 3.27e5\n",
    "\n",
    "Pr = 56.2\n",
    "\n",
    "Ste = 0.045\n",
    "\n",
    "C = 1.\n",
    "\n",
    "K = 1.\n",
    "\n",
    "T_f = 0.01\n",
    "\n",
    "mu_L = 1.\n",
    "\n",
    "mu_S = 1.e8\n",
    "\n",
    "def P(T):\n",
    "    \n",
    "    return P_general(T, T_f)\n",
    "\n",
    "\n",
    "def mu_SL(PofT):\n",
    "    \n",
    "    return mu_SL_general(PofT, mu_S, mu_L)\n",
    "\n",
    "\n",
    "r = 0.025"
   ]
  },
  {
   "cell_type": "markdown",
   "metadata": {},
   "source": [
    "Typically the right-hand sides are $\\mathbf{s} = \\left( s_p, \\mathbf{s_u}, s_T \\right)^\\intercal = \\mathbf{0}$, but we include $\\mathbf{s}$ as a generic source term to facilitate code verification via MMS."
   ]
  },
  {
   "cell_type": "markdown",
   "metadata": {},
   "source": [
    "# Select a buoyancy model\n",
    "For this study, we will only consider the linear buoyancy model from Danaila's simulation of the octadecane PCM melting benchmark, i.e.\n",
    "$$ \\begin{align}\n",
    "    \\mathbf{f}_B(T) = \\left(0, \\frac{-\\mathscr{Ra}}{\\mathscr{PrRe}^2}T\\right)^\\intercal\n",
    "\\end{align}$$"
   ]
  },
  {
   "cell_type": "code",
   "execution_count": 6,
   "metadata": {},
   "outputs": [],
   "source": [
    "f_B0 = 0.\n",
    "\n",
    "def f_B1(T):\n",
    "    \n",
    "    return -Ra/(Pr*Re*Re)*T\n",
    "\n",
    "\n",
    "def f_B(T):\n",
    "    \n",
    "    return f_B0*R.x + f_B1(T)*R.y"
   ]
  },
  {
   "cell_type": "markdown",
   "metadata": {},
   "source": [
    "# Manufacture solution\n",
    "\n",
    "To test the full capabilities of the implementation, we must select a solution where $\\mathbf{u}$ and $T$ are twice differentiable in space and once differentiable in time, and where $p$ is once differentiable in space. For the present study, we will only consider a two-dimensional solution.\n",
    "\n",
    "$$\n",
    "\\begin{align}\n",
    "    p_\\mathrm{MMS} &= e^{t} (\\sin x + \\sin{2y}), \\\\\n",
    "    \\mathbf{u}_\\mathrm{MMS} &= e^{2t} (\\sin{3x} + \\sin{4y}, \\sin{5x} + \\sin{6y})^\\intercal, \\\\\n",
    "    T_\\mathrm{MMS} &= e^{3t} (\\sin{7x} + \\sin{8y})\n",
    "\\end{align}\n",
    "$$"
   ]
  },
  {
   "cell_type": "code",
   "execution_count": 7,
   "metadata": {},
   "outputs": [
    {
     "name": "stdout",
     "output_type": "stream",
     "text": [
      "p = (sin(R.x) + sin(2.0*R.y))*exp(t)\n",
      "u = ((sin(3.0*R.x) + sin(4.0*R.y))*exp(2.0*t))*R.i + ((sin(5.0*R.x) + sin(6.0*R.y))*exp(2.0*t))*R.j\n",
      "T = (sin(7.0*R.x) + sin(8.0*R.y))*exp(3.0*t)\n"
     ]
    }
   ],
   "source": [
    "p = exp(t)*(sin(x) + sin(2.*y))\n",
    "\n",
    "u0 = exp(2.*t)*(sin(3.*x) + sin(4.*y))\n",
    "\n",
    "u1 = exp(2.*t)*(sin(5.*x) + sin(6.*y))\n",
    "\n",
    "u = u0*R.i + u1*R.j\n",
    "\n",
    "T = exp(3.*t)*(sin(7.*x) + sin(8.*y))\n",
    "    \n",
    "# @todo Re-design the manufactured temperature solution such that it contains T_f\n",
    "    \n",
    "print(\"p = \" + str(p))\n",
    "\n",
    "print(\"u = \" + str(u))\n",
    "\n",
    "print(\"T = \" + str(T))"
   ]
  },
  {
   "cell_type": "markdown",
   "metadata": {},
   "source": [
    "# Derive the manufactured source term\n",
    "\n",
    "Given the manufactured solution, derive the manufactured source terms $\\mathbf{s}_{\\mathrm{MMS}}$ with SymPy. We can use SymPy's vector calculus capabilities for the mass and energy equations."
   ]
  },
  {
   "cell_type": "code",
   "execution_count": 8,
   "metadata": {},
   "outputs": [
    {
     "name": "stdout",
     "output_type": "stream",
     "text": [
      "s_p = 3.0*exp(2.0*t)*cos(3.0*R.x) + 6.0*exp(2.0*t)*cos(6.0*R.y)\n"
     ]
    }
   ],
   "source": [
    "s_p = div(u)\n",
    "\n",
    "print(\"s_p = \" + str(s_p))"
   ]
  },
  {
   "cell_type": "code",
   "execution_count": 9,
   "metadata": {},
   "outputs": [
    {
     "name": "stdout",
     "output_type": "stream",
     "text": [
      "s_T = 7.0*(sin(3.0*R.x) + sin(4.0*R.y))*exp(5.0*t)*cos(7.0*R.x) + 8.0*(sin(5.0*R.x) + sin(6.0*R.y))*exp(5.0*t)*cos(8.0*R.y) + 1333.33333333333*(sin(7.0*R.x) + sin(8.0*R.y))*(-tanh(-40.0*(sin(7.0*R.x) + sin(8.0*R.y))*exp(3.0*t) + 0.4)**2 + 1)*exp(3.0*t) + 3.0*(sin(7.0*R.x) + sin(8.0*R.y))*exp(3.0*t) + 3.0*(sin(7.0*R.x) + sin(8.0*R.y))*exp(5.0*t)*cos(3.0*R.x) + 6.0*(sin(7.0*R.x) + sin(8.0*R.y))*exp(5.0*t)*cos(6.0*R.y) + 0.871886120996441*exp(3.0*t)*sin(7.0*R.x) + 1.13879003558719*exp(3.0*t)*sin(8.0*R.y)\n"
     ]
    }
   ],
   "source": [
    "s_T = diff(C*T, t) + div(C*T*u) - 1./Pr*div(K*grad(T)) + 1./Ste*diff(P(T), t)\n",
    "\n",
    "print(\"s_T = \" + str(s_T))"
   ]
  },
  {
   "cell_type": "markdown",
   "metadata": {},
   "source": [
    "The momentum equation is not as simple. SymPy cannot compute the gradient of a vector (which should yield a tensor). Furthermore, SymPy does not view operators as tensors, and hence we cannot take the tensor product between the gradient operator and a tensor. Therefore, we rewrite the momentum equation in matrix form and compute the three elements of the source term separately.\n",
    "\n",
    "The elements of the rate of strain tensor $\\mathbf{D(u)}$ are\n",
    "$$ \\begin{align}\n",
    "D_{ij}(\\mathbf{u}) = \\frac{1}{2}\\left(\\frac{\\partial}{\\partial x_j}u_i + \\frac{\\partial}{\\partial x_i} u_j\\right)\n",
    "\\end{align}$$\n",
    "\n",
    "If we believe in operator-valued matrices, then we can write the momentum equation as\n",
    "\n",
    "$$\\begin{equation}\n",
    "    \\frac{\\partial}{\\partial t} \n",
    "    \\left(\n",
    "        \\begin{array}{c}\n",
    "            u_0 \\\\\n",
    "            u_1\n",
    "        \\end{array}\n",
    "    \\right) +\n",
    "    \\left(\n",
    "        \\left(\n",
    "            \\begin{array}{c} \n",
    "                u_0 \\\\\n",
    "                u_1 \n",
    "            \\end{array}\n",
    "        \\right)\n",
    "        \\cdot\n",
    "        \\left(\n",
    "            \\begin{array}{c}\n",
    "                \\frac{\\partial}{\\partial x} \\\\\n",
    "                \\frac{\\partial}{\\partial y}\n",
    "            \\end{array}\n",
    "        \\right)\n",
    "    \\right)\n",
    "    \\left(\n",
    "        \\begin{array}{c}\n",
    "            u_0 \\\\\n",
    "            u_1\n",
    "        \\end{array}\n",
    "    \\right) \n",
    "    +\n",
    "    \\left(\n",
    "        \\begin{array}{c}\n",
    "            \\frac{\\partial}{\\partial x} \\\\\n",
    "            \\frac{\\partial}{\\partial y}\n",
    "        \\end{array}\n",
    "    \\right)\n",
    "    p -\n",
    "    \\left(\n",
    "        \\begin{array}{c}\n",
    "            \\frac{\\partial}{\\partial x} \\\\\n",
    "            \\frac{\\partial}{\\partial y}\n",
    "        \\end{array}\n",
    "    \\right)\n",
    "    \\cdot\n",
    "    \\left(\n",
    "        \\mu_{SL}\\left(P(T)\\right)\n",
    "        \\left[\n",
    "            \\begin{array}{c}\n",
    "                2\\frac{\\partial}{\\partial x}u_0 & \\frac{\\partial}{\\partial y}u_0 + \\frac{\\partial}{\\partial x}u_1 \\\\\n",
    "                \\frac{\\partial}{\\partial y}u_0 + \\frac{\\partial}{\\partial x}u_1 & 2\\frac{\\partial}{\\partial y}u_1\n",
    "            \\end{array}\n",
    "        \\right]\n",
    "    \\right)\n",
    "    +\n",
    "    \\left(\n",
    "        \\begin{array}{c}\n",
    "            f_{B,0}(T) \\\\\n",
    "            f_{B,1}(T)\n",
    "        \\end{array}\n",
    "    \\right)\n",
    "    =\n",
    "    \\left(\n",
    "        \\begin{array}{c}\n",
    "            s_{u,0} \\\\\n",
    "            s_{u,1}\n",
    "        \\end{array}\n",
    "    \\right)\n",
    "\\end{equation}$$"
   ]
  },
  {
   "cell_type": "markdown",
   "metadata": {},
   "source": [
    "SymPy does not believe in operator-valued matrices, so we apply the operators, yielding"
   ]
  },
  {
   "cell_type": "markdown",
   "metadata": {},
   "source": [
    "$$\\begin{equation}\n",
    "    \\frac{\\partial}{\\partial t} \n",
    "    \\left(\n",
    "        \\begin{array}{c}\n",
    "            u_0 \\\\\n",
    "            u_1\n",
    "        \\end{array}\n",
    "    \\right) +\n",
    "    \\left(\n",
    "        \\begin{array}{c} \n",
    "            u_0 \\frac{\\partial}{\\partial x} u_0 + u_1 \\frac{\\partial}{\\partial y} u_0\\\\\n",
    "            u_0 \\frac{\\partial}{\\partial x} u_1 + u_1 \\frac{\\partial}{\\partial y} u_1 \n",
    "        \\end{array}\n",
    "    \\right)\n",
    "    +\n",
    "    \\left(\n",
    "        \\begin{array}{c}\n",
    "            \\frac{\\partial}{\\partial x} p \\\\\n",
    "            \\frac{\\partial}{\\partial y} p\n",
    "        \\end{array}\n",
    "    \\right)\n",
    "    -\n",
    "    \\left(\n",
    "        \\begin{array}{c}\n",
    "            2\\frac{\\partial}{\\partial x} \\mu_{SL}(P(T)) \\frac{\\partial}{\\partial x} u_0 + \\frac{\\partial}{\\partial y} \\mu_{SL}(P(T)) \\left(\\frac{\\partial}{\\partial y}u_0 + \\frac{\\partial}{\\partial x}u_1 \\right) \\\\\n",
    "            2\\frac{\\partial}{\\partial y} \\mu_{SL}(P(T)) \\frac{\\partial}{\\partial y} u_1 + \\frac{\\partial}{\\partial x} \\mu_{SL}(P(T)) \\left(\\frac{\\partial}{\\partial y}u_0 + \\frac{\\partial}{\\partial x}u_1 \\right)\n",
    "        \\end{array}\n",
    "    \\right)\n",
    "    +\n",
    "    \\left(\n",
    "        \\begin{array}{c}\n",
    "            f_{B,0}(T) \\\\\n",
    "            f_{B,1}(T)\n",
    "        \\end{array}\n",
    "    \\right)\n",
    "    =\n",
    "    \\left(\n",
    "        \\begin{array}{c}\n",
    "            s_{u,0} \\\\\n",
    "            s_{u,1}\n",
    "        \\end{array}\n",
    "    \\right)\n",
    "\\end{equation}$$"
   ]
  },
  {
   "cell_type": "code",
   "execution_count": 10,
   "metadata": {},
   "outputs": [
    {
     "name": "stdout",
     "output_type": "stream",
     "text": [
      "s_u0 = 15999999840.0*(5.0*exp(2.0*t)*cos(5.0*R.x) + 4.0*exp(2.0*t)*cos(4.0*R.y))*(-tanh(-40.0*(sin(7.0*R.x) + sin(8.0*R.y))*exp(3.0*t) + 0.4)**2 + 1)*exp(3.0*t)*cos(8.0*R.y) + 2.0*(sin(3.0*R.x) + sin(4.0*R.y))*exp(2.0*t) + 3.0*(sin(3.0*R.x) + sin(4.0*R.y))*exp(4.0*t)*cos(3.0*R.x) + 4.0*(sin(5.0*R.x) + sin(6.0*R.y))*exp(4.0*t)*cos(4.0*R.y) + 83999999160.0*(-tanh(-40.0*(sin(7.0*R.x) + sin(8.0*R.y))*exp(3.0*t) + 0.4)**2 + 1)*exp(5.0*t)*cos(3.0*R.x)*cos(7.0*R.x) + exp(t)*cos(R.x)\n",
      "s_u1 = 13999999860.0*(5.0*exp(2.0*t)*cos(5.0*R.x) + 4.0*exp(2.0*t)*cos(4.0*R.y))*(-tanh(-40.0*(sin(7.0*R.x) + sin(8.0*R.y))*exp(3.0*t) + 0.4)**2 + 1)*exp(3.0*t)*cos(7.0*R.x) + 5.0*(sin(3.0*R.x) + sin(4.0*R.y))*exp(4.0*t)*cos(5.0*R.x) + 2.0*(sin(5.0*R.x) + sin(6.0*R.y))*exp(2.0*t) + 6.0*(sin(5.0*R.x) + sin(6.0*R.y))*exp(4.0*t)*cos(6.0*R.y) - 5818.50533807829*(sin(7.0*R.x) + sin(8.0*R.y))*exp(3.0*t) + 191999998080.0*(-tanh(-40.0*(sin(7.0*R.x) + sin(8.0*R.y))*exp(3.0*t) + 0.4)**2 + 1)*exp(5.0*t)*cos(6.0*R.y)*cos(8.0*R.y) + 2.0*exp(t)*cos(2.0*R.y)\n"
     ]
    }
   ],
   "source": [
    "s_u0 = diff(u0, t) + u0*diff(u0, x) + u1*diff(u0, y) + diff(p, x) - (2.*diff(mu_SL(P(T)), x)*diff(u0, x) + diff(mu_SL(P(T)), y)*(diff(u0, y) + diff(u1, x))) + f_B0\n",
    "\n",
    "print(\"s_u0 = \" + str(s_u0))\n",
    "\n",
    "s_u1 = diff(u1, t) + u0*diff(u1, x) + u1*diff(u1, y) + diff(p, y) - (2.*diff(mu_SL(P(T)), y)*diff(u1, y) + diff(mu_SL(P(T)), x)*(diff(u0, y) + diff(u1, x))) + f_B1(T)\n",
    "\n",
    "print(\"s_u1 = \" + str(s_u1))"
   ]
  },
  {
   "cell_type": "markdown",
   "metadata": {},
   "source": [
    "# Solve the manufactured problem with Phaseflow"
   ]
  },
  {
   "cell_type": "markdown",
   "metadata": {},
   "source": [
    "Evaluate initial values. FEniCS has a slightly different syntax than SymPy, which we handle here."
   ]
  },
  {
   "cell_type": "code",
   "execution_count": 11,
   "metadata": {},
   "outputs": [
    {
     "name": "stdout",
     "output_type": "stream",
     "text": [
      "['sin(3.0*x[0]) + sin(4.0*x[1])', 'sin(5.0*x[0]) + sin(6.0*x[1])', '1.0*sin(x[0]) + 1.0*sin(2.0*x[1])', 'sin(7.0*x[0]) + sin(8.0*x[1])']\n"
     ]
    }
   ],
   "source": [
    "initial_values = [u0, u1, p, T]\n",
    "\n",
    "initial_values[:] = [ \\\n",
    "    str(expression.subs(t, 0.)).replace(\"R.x\", \"x[0]\").replace(\"R.y\", \"x[1]\") \\\n",
    "    for expression in initial_values]\n",
    "\n",
    "print(initial_values)"
   ]
  },
  {
   "cell_type": "code",
   "execution_count": 12,
   "metadata": {},
   "outputs": [
    {
     "name": "stdout",
     "output_type": "stream",
     "text": [
      "['(sin(3.0*x[0]) + sin(4.0*x[1]))*exp(2.0*t)', '(sin(5.0*x[0]) + sin(6.0*x[1]))*exp(2.0*t)', '(sin(x[0]) + sin(2.0*x[1]))*exp(t)', '(sin(7.0*x[0]) + sin(8.0*x[1]))*exp(3.0*t)']\n"
     ]
    }
   ],
   "source": [
    "bcs = [u0, u1, p, T]\n",
    "\n",
    "bcs[:] = \\\n",
    "    [str(expression).replace(\"R.x\", \"x[0]\").replace(\"R.y\", \"x[1]\") \\\n",
    "    for expression in bcs]\n",
    "\n",
    "print(bcs)"
   ]
  },
  {
   "cell_type": "markdown",
   "metadata": {},
   "source": [
    "Some of the source terms involve raising a variable to the second power.  FEniCS expects the C++ syntax for this instead of the Python syntax. Lucky for us, SymPy can write the C code. We have to get a bit tricky here."
   ]
  },
  {
   "cell_type": "code",
   "execution_count": 19,
   "metadata": {},
   "outputs": [
    {
     "name": "stdout",
     "output_type": "stream",
     "text": [
      "['(79999999200.0*exp(2.0*t)*cos(5.0*x[0]) + 63999999360.0*exp(2.0*t)*cos(4.0*x[1]))*(-pow(tanh((-40.0*sin(7.0*x[0]) - 40.0*sin(8.0*x[1]))*exp(3.0*t) + 0.4), 2) + 1)*exp(3.0*t)*cos(8.0*x[1]) + (2.0*sin(3.0*x[0]) + 2.0*sin(4.0*x[1]))*exp(2.0*t) + (3.0*sin(3.0*x[0]) + 3.0*sin(4.0*x[1]))*exp(4.0*t)*cos(3.0*x[0]) + (4.0*sin(5.0*x[0]) + 4.0*sin(6.0*x[1]))*exp(4.0*t)*cos(4.0*x[1]) + (-83999999160.0*pow(tanh((-40.0*sin(7.0*x[0]) - 40.0*sin(8.0*x[1]))*exp(3.0*t) + 0.4), 2) + 83999999160.0)*exp(5.0*t)*cos(3.0*x[0])*cos(7.0*x[0]) + exp(t)*cos(x[0])', '(69999999300.0*exp(2.0*t)*cos(5.0*x[0]) + 55999999440.0*exp(2.0*t)*cos(4.0*x[1]))*(-pow(tanh((-40.0*sin(7.0*x[0]) - 40.0*sin(8.0*x[1]))*exp(3.0*t) + 0.4), 2) + 1)*exp(3.0*t)*cos(7.0*x[0]) + (5.0*sin(3.0*x[0]) + 5.0*sin(4.0*x[1]))*exp(4.0*t)*cos(5.0*x[0]) + (2.0*sin(5.0*x[0]) + 2.0*sin(6.0*x[1]))*exp(2.0*t) + (6.0*sin(5.0*x[0]) + 6.0*sin(6.0*x[1]))*exp(4.0*t)*cos(6.0*x[1]) - (5818.50533807829*sin(7.0*x[0]) + 5818.50533807829*sin(8.0*x[1]))*exp(3.0*t) + (-191999998080.0*pow(tanh((-40.0*sin(7.0*x[0]) - 40.0*sin(8.0*x[1]))*exp(3.0*t) + 0.4), 2) + 191999998080.0)*exp(5.0*t)*cos(6.0*x[1])*cos(8.0*x[1]) + 2.0*exp(t)*cos(2.0*x[1])', '3.0*exp(2.0*t)*cos(3.0*x[0]) + 6.0*exp(2.0*t)*cos(6.0*x[1])', '(7.0*sin(3.0*x[0]) + 7.0*sin(4.0*x[1]))*exp(5.0*t)*cos(7.0*x[0]) + (8.0*sin(5.0*x[0]) + 8.0*sin(6.0*x[1]))*exp(5.0*t)*cos(8.0*x[1]) + (3.0*sin(7.0*x[0]) + 3.0*sin(8.0*x[1]))*exp(3.0*t) + (3.0*sin(7.0*x[0]) + 3.0*sin(8.0*x[1]))*exp(5.0*t)*cos(3.0*x[0]) + (6.0*sin(7.0*x[0]) + 6.0*sin(8.0*x[1]))*exp(5.0*t)*cos(6.0*x[1]) + (1333.33333333333*sin(7.0*x[0]) + 1333.33333333333*sin(8.0*x[1]))*(-pow(tanh((-40.0*sin(7.0*x[0]) - 40.0*sin(8.0*x[1]))*exp(3.0*t) + 0.4), 2) + 1)*exp(3.0*t) + 0.871886120996441*exp(3.0*t)*sin(7.0*x[0]) + 1.13879003558719*exp(3.0*t)*sin(8.0*x[1])']\n"
     ]
    }
   ],
   "source": [
    "sources = [s_u0, s_u1, s_p, s_T]\n",
    "\n",
    "sources[:] = \\\n",
    "    [str(expression).replace(\"R.x\", \"xtemp\").replace(\"R.y\", \"ytemp\") \\\n",
    "    for expression in sources]\n",
    "\n",
    "sources[:] = [sympy.ccode(expression) for expression in sources]\n",
    "\n",
    "sources[:] = \\\n",
    "    [str(expression).replace(\"xtemp\", \"x[0]\").replace(\"ytemp\", \"x[1]\") \\\n",
    "    for expression in sources]\n",
    "\n",
    "print(sources)"
   ]
  },
  {
   "cell_type": "markdown",
   "metadata": {},
   "source": [
    "Define a function that will run the manufactured problem for a given grid size and time step size."
   ]
  },
  {
   "cell_type": "code",
   "execution_count": 20,
   "metadata": {},
   "outputs": [],
   "source": [
    "import phaseflow\n",
    "\n",
    "\n",
    "end_time = 0.02\n",
    "\n",
    "def run(nx, nt):\n",
    "    \n",
    "    output_dir = \"output/nt/\" + str(nt) + \"/nx/\" + str(nx) + \"/\"\n",
    "    \n",
    "    mesh = fenics.UnitSquareMesh(nx, nx)\n",
    "    \n",
    "    w, mesh = phaseflow.run(\n",
    "        stefan_number = Ste,\n",
    "        rayleigh_number = Ra,\n",
    "        prandtl_number = Pr,\n",
    "        solid_viscosity = mu_S,\n",
    "        liquid_viscosity = mu_L,\n",
    "        mesh = mesh,\n",
    "        time_step_size = end_time/float(nt),\n",
    "        start_time = 0.,\n",
    "        end_time = end_time,\n",
    "        temperature_of_fusion = T_f,\n",
    "        regularization_smoothing_factor = r,\n",
    "        adaptive = False,\n",
    "        adaptive_metric = 'phase_only',\n",
    "        initial_values_expression = (\n",
    "            initial_values[0],\n",
    "            initial_values[1],\n",
    "            initial_values[2],\n",
    "            initial_values[3]),\n",
    "        boundary_conditions = [\n",
    "            {'subspace': 0, 'value_expression': (bcs[0], bcs[1]), 'degree': 3,\n",
    "                'location_expression': \"near(x[0],  0.) | near(x[0],  1.) | near(x[1], 0.) | near(x[1],  1.)\",\n",
    "                'method': \"topological\"},\n",
    "            {'subspace': 1, 'value_expression': bcs[2], 'degree': 2,\n",
    "                'location_expression': \"near(x[0],  0.) | near(x[0],  1.) | near(x[1], 0.) | near(x[1],  1.)\",\n",
    "                'method': \"topological\"},\n",
    "            {'subspace': 2, 'value_expression': bcs[3], 'degree': 2,\n",
    "                'location_expression': \"near(x[0],  0.) | near(x[0],  1.) | near(x[1], 0.) | near(x[1],  1.)\",\n",
    "                'method': \"topological\"}],\n",
    "        source_expression = sources,\n",
    "        output_dir = output_dir)\n",
    "    \n",
    "    return w"
   ]
  },
  {
   "cell_type": "markdown",
   "metadata": {},
   "source": [
    "Solve the problem for varied time step sizes to verify temporal accuracy. Tablulate the L2-norm errors."
   ]
  },
  {
   "cell_type": "code",
   "execution_count": 21,
   "metadata": {},
   "outputs": [
    {
     "name": "stdout",
     "output_type": "stream",
     "text": [
      "Running Phaseflow with the following arguments:\n",
      "({'steady_relative_tolerance': 0.0001, 'mesh': <dolfin.cpp.mesh.UnitSquareMesh; proxy of <Swig Object of type 'std::shared_ptr< dolfin::UnitSquareMesh > *' at 0x7f72976aba20> >, 'restart_filepath': '', 'initial_values_expression': ('sin(3.0*x[0]) + sin(4.0*x[1])', 'sin(5.0*x[0]) + sin(6.0*x[1])', '1.0*sin(x[0]) + 1.0*sin(2.0*x[1])', 'sin(7.0*x[0]) + sin(8.0*x[1])'), 'm_B': <function run.<locals>.m_B at 0x7f72976a8a60>, 'boundary_conditions': [{'subspace': 0, 'location_expression': 'near(x[0],  0.) | near(x[0],  1.) | near(x[1], 0.) | near(x[1],  1.)', 'degree': 3, 'value_expression': ('(sin(3.0*x[0]) + sin(4.0*x[1]))*exp(2.0*t)', '(sin(5.0*x[0]) + sin(6.0*x[1]))*exp(2.0*t)'), 'method': 'topological'}, {'subspace': 1, 'location_expression': 'near(x[0],  0.) | near(x[0],  1.) | near(x[1], 0.) | near(x[1],  1.)', 'degree': 2, 'value_expression': '(sin(x[0]) + sin(2.0*x[1]))*exp(t)', 'method': 'topological'}, {'subspace': 2, 'location_expression': 'near(x[0],  0.) | near(x[0],  1.) | near(x[1], 0.) | near(x[1],  1.)', 'degree': 2, 'value_expression': '(sin(7.0*x[0]) + sin(8.0*x[1]))*exp(3.0*t)', 'method': 'topological'}], 'regularization_smoothing_factor': 0.025, 'stefan_number': 0.045, 'restart': False, 'nlp_max_iterations': 50, 'adaptive_metric': 'phase_only', 'temperature_of_fusion': 0.01, 'adaptive': False, 'output_dir': 'output/nt/8/nx/32/', 'heat_capacity': 1.0, 'source_expression': ['(79999999200.0*exp(2.0*t)*cos(5.0*x[0]) + 63999999360.0*exp(2.0*t)*cos(4.0*x[1]))*(-pow(tanh((-40.0*sin(7.0*x[0]) - 40.0*sin(8.0*x[1]))*exp(3.0*t) + 0.4), 2) + 1)*exp(3.0*t)*cos(8.0*x[1]) + (2.0*sin(3.0*x[0]) + 2.0*sin(4.0*x[1]))*exp(2.0*t) + (3.0*sin(3.0*x[0]) + 3.0*sin(4.0*x[1]))*exp(4.0*t)*cos(3.0*x[0]) + (4.0*sin(5.0*x[0]) + 4.0*sin(6.0*x[1]))*exp(4.0*t)*cos(4.0*x[1]) + (-83999999160.0*pow(tanh((-40.0*sin(7.0*x[0]) - 40.0*sin(8.0*x[1]))*exp(3.0*t) + 0.4), 2) + 83999999160.0)*exp(5.0*t)*cos(3.0*x[0])*cos(7.0*x[0]) + exp(t)*cos(x[0])', '(69999999300.0*exp(2.0*t)*cos(5.0*x[0]) + 55999999440.0*exp(2.0*t)*cos(4.0*x[1]))*(-pow(tanh((-40.0*sin(7.0*x[0]) - 40.0*sin(8.0*x[1]))*exp(3.0*t) + 0.4), 2) + 1)*exp(3.0*t)*cos(7.0*x[0]) + (5.0*sin(3.0*x[0]) + 5.0*sin(4.0*x[1]))*exp(4.0*t)*cos(5.0*x[0]) + (2.0*sin(5.0*x[0]) + 2.0*sin(6.0*x[1]))*exp(2.0*t) + (6.0*sin(5.0*x[0]) + 6.0*sin(6.0*x[1]))*exp(4.0*t)*cos(6.0*x[1]) - (5818.50533807829*sin(7.0*x[0]) + 5818.50533807829*sin(8.0*x[1]))*exp(3.0*t) + (-191999998080.0*pow(tanh((-40.0*sin(7.0*x[0]) - 40.0*sin(8.0*x[1]))*exp(3.0*t) + 0.4), 2) + 191999998080.0)*exp(5.0*t)*cos(6.0*x[1])*cos(8.0*x[1]) + 2.0*exp(t)*cos(2.0*x[1])', '3.0*exp(2.0*t)*cos(3.0*x[0]) + 6.0*exp(2.0*t)*cos(6.0*x[1])', '(7.0*sin(3.0*x[0]) + 7.0*sin(4.0*x[1]))*exp(5.0*t)*cos(7.0*x[0]) + (8.0*sin(5.0*x[0]) + 8.0*sin(6.0*x[1]))*exp(5.0*t)*cos(8.0*x[1]) + (3.0*sin(7.0*x[0]) + 3.0*sin(8.0*x[1]))*exp(3.0*t) + (3.0*sin(7.0*x[0]) + 3.0*sin(8.0*x[1]))*exp(5.0*t)*cos(3.0*x[0]) + (6.0*sin(7.0*x[0]) + 6.0*sin(8.0*x[1]))*exp(5.0*t)*cos(6.0*x[1]) + (1333.33333333333*sin(7.0*x[0]) + 1333.33333333333*sin(8.0*x[1]))*(-pow(tanh((-40.0*sin(7.0*x[0]) - 40.0*sin(8.0*x[1]))*exp(3.0*t) + 0.4), 2) + 1)*exp(3.0*t) + 0.871886120996441*exp(3.0*t)*sin(7.0*x[0]) + 1.13879003558719*exp(3.0*t)*sin(8.0*x[1])'], 'prandtl_number': 56.2, 'liquid_viscosity': 1.0, 'thermal_conductivity': 1.0, 'adaptive_solver_tolerance': 0.0001, 'ddT_m_B': <function run.<locals>.ddT_m_B at 0x7f72976a8840>, 'nlp_absolute_tolerance': 1e-08, 'nlp_relative_tolerance': 1e-08, 'gravity': (0.0, -1.0), 'solid_viscosity': 100000000.0, 'time_step_size': 0.0025, 'start_time': 0.0, 'stop_when_steady': True, 'rayleigh_number': 327000.0, 'penalty_parameter': 1e-07, 'end_time': 0.02}, [])\n",
      "Running 2D problem\n"
     ]
    },
    {
     "name": "stderr",
     "output_type": "stream",
     "text": [
      "--- Instant: compiling ---\n"
     ]
    },
    {
     "name": "stdout",
     "output_type": "stream",
     "text": [
      "Calling FFC just-in-time (JIT) compiler, this may take some time.\n",
      "Calling FFC just-in-time (JIT) compiler, this may take some time.\n",
      "Calling FFC just-in-time (JIT) compiler, this may take some time.\n",
      "Calling FFC just-in-time (JIT) compiler, this may take some time.\n",
      "Calling FFC just-in-time (JIT) compiler, this may take some time.\n",
      "Calling FFC just-in-time (JIT) compiler, this may take some time.\n",
      "Calling FFC just-in-time (JIT) compiler, this may take some time.\n",
      "Calling FFC just-in-time (JIT) compiler, this may take some time.\n",
      "Calling FFC just-in-time (JIT) compiler, this may take some time.\n",
      "Calling FFC just-in-time (JIT) compiler, this may take some time.\n",
      "Calling FFC just-in-time (JIT) compiler, this may take some time.\n",
      "Calling FFC just-in-time (JIT) compiler, this may take some time.\n",
      "Calling FFC just-in-time (JIT) compiler, this may take some time.\n",
      "  WARNING: The number of integration points for each cell will be: 121\n",
      "           Consider using the option 'quadrature_degree' to reduce the number of points\n",
      "Calling FFC just-in-time (JIT) compiler, this may take some time.\n",
      "  WARNING: The number of integration points for each cell will be: 100\n",
      "           Consider using the option 'quadrature_degree' to reduce the number of points\n",
      "Calling FFC just-in-time (JIT) compiler, this may take some time.\n",
      "Calling FFC just-in-time (JIT) compiler, this may take some time.\n",
      "Calling FFC just-in-time (JIT) compiler, this may take some time.\n",
      "Calling FFC just-in-time (JIT) compiler, this may take some time.\n",
      "Calling FFC just-in-time (JIT) compiler, this may take some time.\n",
      "Calling FFC just-in-time (JIT) compiler, this may take some time.\n",
      "Calling FFC just-in-time (JIT) compiler, this may take some time.\n",
      "Writing solution to HDF5+XDMF\n"
     ]
    },
    {
     "ename": "RuntimeError",
     "evalue": "\n\n*** -------------------------------------------------------------------------\n*** DOLFIN encountered an error. If you are not able to resolve this issue\n*** using the information listed below, you can ask for help at\n***\n***     fenics-support@googlegroups.com\n***\n*** Remember to include the error message listed below and, if possible,\n*** include a *minimal* running example to reproduce the error.\n***\n*** -------------------------------------------------------------------------\n*** Error:   Unable to solve nonlinear system with NewtonSolver.\n*** Reason:  Newton solver did not converge because maximum number of iterations reached.\n*** Where:   This error was encountered inside NewtonSolver.cpp.\n*** Process: 0\n*** \n*** DOLFIN version: 2017.1.0\n*** Git changeset:  7215d3707edbf33a51e7b4bc3dfc8d67922651a2\n*** -------------------------------------------------------------------------\n",
     "output_type": "error",
     "traceback": [
      "\u001b[0;31m---------------------------------------------------------------------------\u001b[0m",
      "\u001b[0;31mRuntimeError\u001b[0m                              Traceback (most recent call last)",
      "\u001b[0;32m<ipython-input-21-b2d3e096cf03>\u001b[0m in \u001b[0;36m<module>\u001b[0;34m()\u001b[0m\n\u001b[1;32m      7\u001b[0m \u001b[0;32mfor\u001b[0m \u001b[0mnt\u001b[0m \u001b[0;32min\u001b[0m \u001b[0;34m[\u001b[0m\u001b[0;36m8\u001b[0m\u001b[0;34m,\u001b[0m \u001b[0;36m16\u001b[0m\u001b[0;34m,\u001b[0m \u001b[0;36m32\u001b[0m\u001b[0;34m]\u001b[0m\u001b[0;34m:\u001b[0m\u001b[0;34m\u001b[0m\u001b[0m\n\u001b[1;32m      8\u001b[0m \u001b[0;34m\u001b[0m\u001b[0m\n\u001b[0;32m----> 9\u001b[0;31m     \u001b[0mw\u001b[0m \u001b[0;34m=\u001b[0m \u001b[0mrun\u001b[0m\u001b[0;34m(\u001b[0m\u001b[0mnx\u001b[0m\u001b[0;34m,\u001b[0m \u001b[0mnt\u001b[0m\u001b[0;34m)\u001b[0m\u001b[0;34m\u001b[0m\u001b[0m\n\u001b[0m\u001b[1;32m     10\u001b[0m \u001b[0;34m\u001b[0m\u001b[0m\n\u001b[1;32m     11\u001b[0m     \u001b[0mu_h\u001b[0m\u001b[0;34m,\u001b[0m \u001b[0mp_h\u001b[0m\u001b[0;34m,\u001b[0m \u001b[0mT_h\u001b[0m \u001b[0;34m=\u001b[0m \u001b[0mfenics\u001b[0m\u001b[0;34m.\u001b[0m\u001b[0msplit\u001b[0m\u001b[0;34m(\u001b[0m\u001b[0mw\u001b[0m\u001b[0;34m)\u001b[0m\u001b[0;34m\u001b[0m\u001b[0m\n",
      "\u001b[0;32m<ipython-input-20-4faa82be3ce1>\u001b[0m in \u001b[0;36mrun\u001b[0;34m(nx, nt)\u001b[0m\n\u001b[1;32m     40\u001b[0m                 'method': \"topological\"}],\n\u001b[1;32m     41\u001b[0m         \u001b[0msource_expression\u001b[0m \u001b[0;34m=\u001b[0m \u001b[0msources\u001b[0m\u001b[0;34m,\u001b[0m\u001b[0;34m\u001b[0m\u001b[0m\n\u001b[0;32m---> 42\u001b[0;31m         output_dir = output_dir)\n\u001b[0m\u001b[1;32m     43\u001b[0m \u001b[0;34m\u001b[0m\u001b[0m\n\u001b[1;32m     44\u001b[0m     \u001b[0;32mreturn\u001b[0m \u001b[0mw\u001b[0m\u001b[0;34m\u001b[0m\u001b[0m\n",
      "\u001b[0;32m~/.local/lib/python3.5/site-packages/phaseflow/core.py\u001b[0m in \u001b[0;36mrun\u001b[0;34m(output_dir, rayleigh_number, prandtl_number, stefan_number, heat_capacity, thermal_conductivity, liquid_viscosity, solid_viscosity, gravity, m_B, ddT_m_B, penalty_parameter, temperature_of_fusion, regularization_smoothing_factor, mesh, initial_values_expression, boundary_conditions, source_expression, start_time, end_time, time_step_size, stop_when_steady, steady_relative_tolerance, adaptive, adaptive_metric, adaptive_solver_tolerance, nlp_absolute_tolerance, nlp_relative_tolerance, nlp_max_iterations, restart, restart_filepath)\u001b[0m\n\u001b[1;32m    438\u001b[0m             \u001b[0;32melse\u001b[0m\u001b[0;34m:\u001b[0m\u001b[0;34m\u001b[0m\u001b[0m\n\u001b[1;32m    439\u001b[0m \u001b[0;34m\u001b[0m\u001b[0m\n\u001b[0;32m--> 440\u001b[0;31m                 \u001b[0mstatic_solver\u001b[0m\u001b[0;34m.\u001b[0m\u001b[0msolve\u001b[0m\u001b[0;34m(\u001b[0m\u001b[0;34m)\u001b[0m\u001b[0;34m\u001b[0m\u001b[0m\n\u001b[0m\u001b[1;32m    441\u001b[0m \u001b[0;34m\u001b[0m\u001b[0m\n\u001b[1;32m    442\u001b[0m             \u001b[0mtime\u001b[0m \u001b[0;34m=\u001b[0m \u001b[0mstart_time\u001b[0m \u001b[0;34m+\u001b[0m \u001b[0mit\u001b[0m\u001b[0;34m*\u001b[0m\u001b[0mtime_step_size\u001b[0m\u001b[0;34m\u001b[0m\u001b[0m\n",
      "\u001b[0;31mRuntimeError\u001b[0m: \n\n*** -------------------------------------------------------------------------\n*** DOLFIN encountered an error. If you are not able to resolve this issue\n*** using the information listed below, you can ask for help at\n***\n***     fenics-support@googlegroups.com\n***\n*** Remember to include the error message listed below and, if possible,\n*** include a *minimal* running example to reproduce the error.\n***\n*** -------------------------------------------------------------------------\n*** Error:   Unable to solve nonlinear system with NewtonSolver.\n*** Reason:  Newton solver did not converge because maximum number of iterations reached.\n*** Where:   This error was encountered inside NewtonSolver.cpp.\n*** Process: 0\n*** \n*** DOLFIN version: 2017.1.0\n*** Git changeset:  7215d3707edbf33a51e7b4bc3dfc8d67922651a2\n*** -------------------------------------------------------------------------\n"
     ]
    }
   ],
   "source": [
    "import fenics\n",
    "\n",
    "error_table = \"nx, nt, L2Error_u0, L2Error_u1, L2Error_p, L2Error_T\\n\"\n",
    "\n",
    "nx = 32\n",
    "\n",
    "for nt in [8, 16, 32]:\n",
    "    \n",
    "    w = run(nx, nt)\n",
    "    \n",
    "    u_h, p_h, T_h = fenics.split(w)\n",
    "    \n",
    "    error_table += (str(nx) + \", \" + str(nt) + \", \"\n",
    "        + str(fenics.errornorm(u0, u_h[0], \"L2\")) + \", \"\n",
    "        + str(fenics.errornorm(u1, u_h[1], \"L2\")) + \", \"\n",
    "        + str(fenics.errornorm(p, p_h, \"L2\")) + \", \"\n",
    "        + str(fenics.errornorm(T, T_h, \"L2\")) + \"\\n\")\n",
    "    \n",
    "    print(error_table)"
   ]
  },
  {
   "cell_type": "code",
   "execution_count": null,
   "metadata": {},
   "outputs": [],
   "source": []
  }
 ],
 "metadata": {
  "kernelspec": {
   "display_name": "Python 3",
   "language": "python",
   "name": "python3"
  },
  "language_info": {
   "codemirror_mode": {
    "name": "ipython",
    "version": 3
   },
   "file_extension": ".py",
   "mimetype": "text/x-python",
   "name": "python",
   "nbconvert_exporter": "python",
   "pygments_lexer": "ipython3",
   "version": "3.5.2"
  }
 },
 "nbformat": 4,
 "nbformat_minor": 2
}
