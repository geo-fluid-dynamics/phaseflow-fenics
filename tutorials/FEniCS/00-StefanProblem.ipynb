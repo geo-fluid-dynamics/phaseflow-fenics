{
 "cells": [
  {
   "cell_type": "markdown",
   "metadata": {},
   "source": [
    "# Solving the Stefan problem with adaptive finite elements"
   ]
  },
  {
   "cell_type": "markdown",
   "metadata": {},
   "source": [
    "This Jupyter notebook shows how to solve the Stefan problem with finite elements and goal-oriented adaptive mesh refinement (AMR) using FEniCS."
   ]
  },
  {
   "cell_type": "markdown",
   "metadata": {},
   "source": [
    "## Python packages\n",
    "\n",
    "Import the Python packages for use in this notebook."
   ]
  },
  {
   "cell_type": "markdown",
   "metadata": {},
   "source": [
    "We use the finite element method library FEniCS."
   ]
  },
  {
   "cell_type": "code",
   "execution_count": 1,
   "metadata": {},
   "outputs": [],
   "source": [
    "import fenics"
   ]
  },
  {
   "cell_type": "markdown",
   "metadata": {},
   "source": [
    "|Note|\n",
    "|----|\n",
    "| This Jupyter notebook server is using FEniCS 2017.2.0 from ppa:fenics-packages/fenics, installed via `apt` on Ubuntu 16.04.|\n",
    "\n",
    "FEniCS has convenient plotting features that don't require us to import `matplotlib`; but using `matplotlib` directly will allow us to annotate the plots."
   ]
  },
  {
   "cell_type": "code",
   "execution_count": 2,
   "metadata": {},
   "outputs": [],
   "source": [
    "import matplotlib"
   ]
  },
  {
   "cell_type": "markdown",
   "metadata": {},
   "source": [
    "Tell this notebook to embed graphical outputs from `matplotlib`, includings those made by `fenics.plot`."
   ]
  },
  {
   "cell_type": "code",
   "execution_count": 3,
   "metadata": {},
   "outputs": [],
   "source": [
    "%matplotlib inline"
   ]
  },
  {
   "cell_type": "markdown",
   "metadata": {},
   "source": [
    "We will also use numpy."
   ]
  },
  {
   "cell_type": "code",
   "execution_count": 4,
   "metadata": {},
   "outputs": [],
   "source": [
    "import numpy"
   ]
  },
  {
   "cell_type": "markdown",
   "metadata": {},
   "source": [
    "## Nomenclature\n",
    "|||\n",
    "|-|-|\n",
    "|$\\mathbf{x}$| point in the spatial domain|\n",
    "|$t$| time |\n",
    "|$T = T(\\mathbf{x},t)$| temperature field |\n",
    "|$\\phi$ | solid volume fraction |\n",
    "|$()_t = \\frac{\\partial}{\\partial t}$| time derivative |\n",
    "|$T_r$| central temperature of the regularization |\n",
    "|$r$| smoothing parameter of the regularization |\n",
    "|$\\mathrm{Ste}$| Stefan number|\n",
    "|$\\Omega$| spatial domain |\n",
    "|$\\mathbf{V}$| finite element function space |\n",
    "|$\\psi$| test function |\n",
    "|$T_h$| hot boundary temperature |\n",
    "|$T_c$| cold boundary temperature |\n",
    "|$\\Delta t$| time step size |\n",
    "|$\\Omega_h$| discrete spatial domain, i.e. the mesh |\n",
    "|$M$| goal functional |\n",
    "|$\\epsilon_M$| error tolerance for goal-oriented AMR |"
   ]
  },
  {
   "cell_type": "markdown",
   "metadata": {},
   "source": [
    "## Governing equations"
   ]
  },
  {
   "cell_type": "markdown",
   "metadata": {},
   "source": [
    "To model the Stefan problem with a single domain, consider the enthalpy balance from [4] with zero velocity and unit Prandtl number.\n",
    "\n",
    "\\begin{align*}\n",
    "    T_t - \\nabla \\cdot (\\nabla T) - \\frac{1}{\\mathrm{Ste}}\\phi_t &= 0\n",
    "\\end{align*}\n",
    "\n",
    "where the regularized semi-phase-field (representing the solid volume fraction) is \n",
    "\n",
    "\\begin{align*}\n",
    "    \\phi(T) = \\frac{1}{2}\\left(1 + \\tanh{\\frac{T_r - T}{r}} \\right)\n",
    "\\end{align*}"
   ]
  },
  {
   "cell_type": "markdown",
   "metadata": {},
   "source": [
    "This is essentially a smoothed heaviside function, which approaches the exact heaviside function as $r$ approaches zero. Let's visualize this."
   ]
  },
  {
   "cell_type": "code",
   "execution_count": 5,
   "metadata": {},
   "outputs": [
    {
     "data": {
      "text/plain": [
       "<matplotlib.legend.Legend at 0x7f13ed7231d0>"
      ]
     },
     "execution_count": 5,
     "metadata": {},
     "output_type": "execute_result"
    },
    {
     "data": {
      "image/png": "[encoded data removed]",
      "text/plain": [
       "<matplotlib.figure.Figure at 0x7f13ed723278>"
      ]
     },
     "metadata": {},
     "output_type": "display_data"
    }
   ],
   "source": [
    "def semi_phase_field(T, T_r, r):\n",
    "    \n",
    "    return 0.5*(1. + numpy.tanh((T_r - T)/r))\n",
    "\n",
    "\n",
    "regularization_central_temperature = 0.\n",
    "\n",
    "temperatures = numpy.linspace(\n",
    "    regularization_central_temperature - 0.5,\n",
    "    regularization_central_temperature + 0.5,\n",
    "    1000)\n",
    "\n",
    "legend_strings = []\n",
    "\n",
    "for regluarization_smoothing_parameter in (0.1, 0.05, 0.025):\n",
    "    \n",
    "    matplotlib.pyplot.plot(\n",
    "        temperatures, \n",
    "        semi_phase_field(\n",
    "            T = temperatures, \n",
    "            T_r = regularization_central_temperature, \n",
    "            r = regluarization_smoothing_parameter))\n",
    "    \n",
    "    legend_strings.append(\n",
    "        \"$r = \" + str(regluarization_smoothing_parameter) + \"$\")\n",
    "    \n",
    "matplotlib.pyplot.xlabel(\"$T$\")\n",
    "\n",
    "matplotlib.pyplot.ylabel(\"$\\phi$\")\n",
    "\n",
    "matplotlib.pyplot.legend(legend_strings)"
   ]
  },
  {
   "cell_type": "markdown",
   "metadata": {},
   "source": [
    "## Mesh"
   ]
  },
  {
   "cell_type": "markdown",
   "metadata": {},
   "source": [
    "Define a fine mesh to capture the rapid variation in $phi(T)$."
   ]
  },
  {
   "cell_type": "code",
   "execution_count": 6,
   "metadata": {},
   "outputs": [],
   "source": [
    "N = 1000\n",
    "\n",
    "mesh = fenics.UnitIntervalMesh(N)"
   ]
  },
  {
   "cell_type": "markdown",
   "metadata": {},
   "source": [
    "## Finite element function space, test function, and solution function"
   ]
  },
  {
   "cell_type": "markdown",
   "metadata": {},
   "source": [
    "Lets use piece-wise linear elements."
   ]
  },
  {
   "cell_type": "code",
   "execution_count": 7,
   "metadata": {},
   "outputs": [],
   "source": [
    "P1 = fenics.FiniteElement('P', mesh.ufl_cell(), 1)"
   ]
  },
  {
   "cell_type": "markdown",
   "metadata": {},
   "source": [
    "|Note|\n",
    "|----|\n",
    "|`fenics.FiniteElement` requires the `mesh.ufl_cell()` argument to determine some aspects of the domain (e.g. that the spatial domain is two-dimensional).|"
   ]
  },
  {
   "cell_type": "markdown",
   "metadata": {},
   "source": [
    "Make the finite element function space $V$, which enumerates the finite element basis functions on each cell of the mesh."
   ]
  },
  {
   "cell_type": "code",
   "execution_count": 8,
   "metadata": {},
   "outputs": [],
   "source": [
    "V = fenics.FunctionSpace(mesh, P1)"
   ]
  },
  {
   "cell_type": "markdown",
   "metadata": {},
   "source": [
    "Make the test function $\\psi  \\in \\mathbf{V}$."
   ]
  },
  {
   "cell_type": "code",
   "execution_count": 9,
   "metadata": {},
   "outputs": [],
   "source": [
    "psi = fenics.TestFunction(V)"
   ]
  },
  {
   "cell_type": "markdown",
   "metadata": {},
   "source": [
    "Make the solution function $T \\in \\mathbf{V}$."
   ]
  },
  {
   "cell_type": "code",
   "execution_count": 10,
   "metadata": {},
   "outputs": [],
   "source": [
    "T = fenics.Function(V)"
   ]
  },
  {
   "cell_type": "markdown",
   "metadata": {},
   "source": [
    "### Benchmark parameters"
   ]
  },
  {
   "cell_type": "markdown",
   "metadata": {},
   "source": [
    "Set the Stefan number, density, specific heat capacity, and thermal diffusivity. For each we define a `fenics.Constant` for use in the variational form so that FEniCS can more efficiently compile the finite element code."
   ]
  },
  {
   "cell_type": "code",
   "execution_count": 11,
   "metadata": {},
   "outputs": [],
   "source": [
    "stefan_number = 0.045\n",
    "\n",
    "Ste = fenics.Constant(stefan_number)"
   ]
  },
  {
   "cell_type": "markdown",
   "metadata": {},
   "source": [
    "Define the regularized semi-phase-field for use with FEniCS."
   ]
  },
  {
   "cell_type": "code",
   "execution_count": 12,
   "metadata": {},
   "outputs": [],
   "source": [
    "regularization_central_temperature = 0.\n",
    "\n",
    "T_r = fenics.Constant(regularization_central_temperature)\n",
    "\n",
    "regularization_smoothing_parameter = 0.005\n",
    "\n",
    "r = fenics.Constant(regularization_smoothing_parameter)\n",
    "\n",
    "tanh = fenics.tanh\n",
    "\n",
    "def phi(T):\n",
    "    \n",
    "    return 0.5*(1. + fenics.tanh((T_r - T)/r))"
   ]
  },
  {
   "cell_type": "markdown",
   "metadata": {},
   "source": [
    "Furthermore the benchmark problem involves hot and cold walls with constant temperatures $T_h$ and $T_c$, respectively."
   ]
  },
  {
   "cell_type": "code",
   "execution_count": 13,
   "metadata": {},
   "outputs": [],
   "source": [
    "hot_wall_temperature = 1.\n",
    "\n",
    "T_h = fenics.Constant(hot_wall_temperature)\n",
    "\n",
    "cold_wall_temperature = -0.01\n",
    "\n",
    "T_c = fenics.Constant(cold_wall_temperature)"
   ]
  },
  {
   "cell_type": "markdown",
   "metadata": {},
   "source": [
    "### Time discretization"
   ]
  },
  {
   "cell_type": "markdown",
   "metadata": {},
   "source": [
    "To solve the initial value problem, we will prescribe the initial values, and then take discrete steps forward in time which solve the governing equations.\n",
    "\n",
    "We set the initial values such that a small layer of melt already exists touching the hot wall.\n",
    "\n",
    "\\begin{align*}\n",
    "    T^0 = \n",
    "    \\begin{cases}\n",
    "        T_h, && x_0 < x_{m,0} \\\\\n",
    "        T_c, && \\mathrm{otherwise}\n",
    "    \\end{cases}\n",
    "\\end{align*}"
   ]
  },
  {
   "cell_type": "markdown",
   "metadata": {},
   "source": [
    "Interpolate these values to create the initial solution function."
   ]
  },
  {
   "cell_type": "code",
   "execution_count": 14,
   "metadata": {},
   "outputs": [],
   "source": [
    "initial_melt_thickness = 10./float(N)\n",
    "\n",
    "T_n = fenics.interpolate(\n",
    "    fenics.Expression(\n",
    "        \"(T_h - T_c)*(x[0] < x_m0) + T_c\",\n",
    "        T_h = hot_wall_temperature, \n",
    "        T_c = cold_wall_temperature,\n",
    "        x_m0 = initial_melt_thickness,\n",
    "        element = P1),\n",
    "    V)"
   ]
  },
  {
   "cell_type": "markdown",
   "metadata": {},
   "source": [
    "Let's look at the initial values now."
   ]
  },
  {
   "cell_type": "code",
   "execution_count": 15,
   "metadata": {},
   "outputs": [
    {
     "data": {
      "image/png": "[encoded data removed]",
      "text/plain": [
       "<matplotlib.figure.Figure at 0x7f13eb31b128>"
      ]
     },
     "metadata": {},
     "output_type": "display_data"
    },
    {
     "data": {
      "image/png": "[encoded data removed]",
      "text/plain": [
       "<matplotlib.figure.Figure at 0x7f13eb68e780>"
      ]
     },
     "metadata": {},
     "output_type": "display_data"
    }
   ],
   "source": [
    "fenics.plot(T_n)\n",
    "\n",
    "matplotlib.pyplot.title(r\"$T^0$\")\n",
    "\n",
    "matplotlib.pyplot.xlabel(\"$x$\")\n",
    "\n",
    "matplotlib.pyplot.show()\n",
    "\n",
    "fenics.plot(phi(T_n))\n",
    "\n",
    "matplotlib.pyplot.title(r\"$\\phi(T^0)$\")\n",
    "\n",
    "matplotlib.pyplot.xlabel(\"$x$\")\n",
    "\n",
    "matplotlib.pyplot.show()"
   ]
  },
  {
   "cell_type": "markdown",
   "metadata": {},
   "source": [
    "For the time derivative terms, we apply the first-order implicit Euler finite difference time discretization, i.e.\n",
    "\n",
    "\\begin{align*}\n",
    "    T_t = \\frac{T^{n+1} - T^n}{\\Delta t} \\\\\n",
    "    \\phi_t = \\frac{\\phi\\left(T^{n+1}\\right) - \\phi\\left(T^n\\right)}{\\Delta t} \n",
    "\\end{align*}\n",
    "\n",
    "|Note|\n",
    "|----|\n",
    "|We will use the shorthand $T = T^{n+1}$, since we will always be solving for the latest discrete time.|\n",
    "\n",
    "Choose a time step size and set the discrete time derivatives."
   ]
  },
  {
   "cell_type": "code",
   "execution_count": 16,
   "metadata": {},
   "outputs": [],
   "source": [
    "timestep_size = 1.e-3\n",
    "\n",
    "Delta_t = fenics.Constant(timestep_size)\n",
    "\n",
    "T_t = (T - T_n)/Delta_t\n",
    "\n",
    "phi_t = (phi(T) - phi(T_n))/Delta_t"
   ]
  },
  {
   "cell_type": "markdown",
   "metadata": {},
   "source": [
    "## Variational form"
   ]
  },
  {
   "cell_type": "markdown",
   "metadata": {},
   "source": [
    "To obtain the finite element weak form, we follow the standard Ritz-Galerkin method. Therefore, we multiply the strong form *from the left* by the test function $\\psi$ from the finite element function space $V$ and integrate over the spatial domain $\\Omega$. This gives us the variational problem: Find $T \\in V$ such that\n",
    "\n",
    "\\begin{align*}\n",
    "    (\\psi,T_t - \\frac{1}{\\mathrm{Ste}}\\phi_t) + (\\nabla \\psi, \\nabla T) = 0 \\quad \\forall \\psi \\in V\n",
    "\\end{align*}\n",
    "\n",
    "|Note| \n",
    "|----|\n",
    "|We denote integrating inner products over the domain as $(v,u) = \\int_\\Omega v u d \\mathbf{x}$.|"
   ]
  },
  {
   "cell_type": "markdown",
   "metadata": {},
   "source": [
    "Define the nonlinear variational form for FEniCS.\n",
    "\n",
    "|Note|\n",
    "|----|\n",
    "|The term $\\phi(T)$ is nonlinear.|"
   ]
  },
  {
   "cell_type": "code",
   "execution_count": 17,
   "metadata": {},
   "outputs": [],
   "source": [
    "dot, grad = fenics.dot, fenics.grad\n",
    "    \n",
    "F = (psi*(T_t - 1./Ste*phi_t) + dot(grad(psi), grad(T)))*fenics.dx"
   ]
  },
  {
   "cell_type": "markdown",
   "metadata": {},
   "source": [
    "## Linearization\n",
    "Notice that $\\mathcal{F}$ is a *nonlinear* variational form. FEniCS will solve the nonlinear problem using Newton's method. This requires computing the Jacobian (formally the Gâteaux derivative) of the nonlinear variational form, yielding a a sequence of linearized problems whose solutions may converge to approximate the nonlinear solution.\n",
    "\n",
    "We could manually define the Jacobian; but thankfully FEniCS can do this for us.\n",
    "\n",
    "|Note|\n",
    "|----|\n",
    "|When solving linear variational problems in FEniCS, one defines the linear variational form using `fenics.TrialFunction` instead of `fenics.Function` (while both approaches will need `fenics.TestFunction`). When solving nonlinear variational problems with FEniCS, we only need `fenics.TrialFunction` to define the linearized problem, since it is the linearized problem which will be assembled into a linear system and solved.|"
   ]
  },
  {
   "cell_type": "code",
   "execution_count": 18,
   "metadata": {},
   "outputs": [],
   "source": [
    "JF = fenics.derivative(F, T, fenics.TrialFunction(V))"
   ]
  },
  {
   "cell_type": "markdown",
   "metadata": {},
   "source": [
    "## Boundary conditions"
   ]
  },
  {
   "cell_type": "markdown",
   "metadata": {},
   "source": [
    "We need boundary conditions before we can define a variational *problem* (i.e. in this case a boundary value problem).\n",
    "\n",
    "We consider a constant hot temperature on the left wall, a constant cold temperature on the right wall. Because the problem's geometry is simple, we can identify the boundaries with the following piece-wise function.\n",
    "\n",
    "\\begin{align*}\n",
    "    T(\\mathbf{x}) &= \n",
    "    \\begin{cases}\n",
    "        T_h , && x_0 = 0 \\\\\n",
    "        T_c , && x_0 = 1 \n",
    "    \\end{cases}\n",
    "\\end{align*}"
   ]
  },
  {
   "cell_type": "code",
   "execution_count": 19,
   "metadata": {},
   "outputs": [],
   "source": [
    "hot_wall = \"near(x[0],  0.)\"\n",
    "\n",
    "cold_wall = \"near(x[0],  1.)\""
   ]
  },
  {
   "cell_type": "markdown",
   "metadata": {},
   "source": [
    "Define the boundary conditions for FEniCS."
   ]
  },
  {
   "cell_type": "code",
   "execution_count": 20,
   "metadata": {},
   "outputs": [],
   "source": [
    "boundary_conditions = [\n",
    "    fenics.DirichletBC(V, hot_wall_temperature, hot_wall),\n",
    "    fenics.DirichletBC(V, cold_wall_temperature, cold_wall)]"
   ]
  },
  {
   "cell_type": "markdown",
   "metadata": {},
   "source": [
    "## The variational problem"
   ]
  },
  {
   "cell_type": "markdown",
   "metadata": {},
   "source": [
    "Now we have everything we need to define the variational problem for FEniCS."
   ]
  },
  {
   "cell_type": "code",
   "execution_count": 21,
   "metadata": {},
   "outputs": [],
   "source": [
    "problem = fenics.NonlinearVariationalProblem(F, T, boundary_conditions, JF)"
   ]
  },
  {
   "cell_type": "markdown",
   "metadata": {},
   "source": [
    "## The benchmark solution"
   ]
  },
  {
   "cell_type": "markdown",
   "metadata": {},
   "source": [
    "Finally we instantiate the adaptive solver with our problem and goal"
   ]
  },
  {
   "cell_type": "code",
   "execution_count": 22,
   "metadata": {},
   "outputs": [],
   "source": [
    "solver = fenics.NonlinearVariationalSolver(problem)"
   ]
  },
  {
   "cell_type": "markdown",
   "metadata": {},
   "source": [
    "and solve the problem to the prescribed tolerance."
   ]
  },
  {
   "cell_type": "code",
   "execution_count": 23,
   "metadata": {},
   "outputs": [
    {
     "data": {
      "text/plain": [
       "(10, 1)"
      ]
     },
     "execution_count": 23,
     "metadata": {},
     "output_type": "execute_result"
    }
   ],
   "source": [
    "solver.solve()"
   ]
  },
  {
   "cell_type": "markdown",
   "metadata": {},
   "source": [
    "|Note|\n",
    "|----|\n",
    "|`solver.solve` will modify the solution `w`, which means that `u` and `p` will also be modified.|"
   ]
  },
  {
   "cell_type": "markdown",
   "metadata": {},
   "source": [
    "Now plot the temperature and solid volume fraction."
   ]
  },
  {
   "cell_type": "code",
   "execution_count": 24,
   "metadata": {},
   "outputs": [
    {
     "data": {
      "image/png": "[encoded data removed]",
      "text/plain": [
       "<matplotlib.figure.Figure at 0x7f13ea57d048>"
      ]
     },
     "metadata": {},
     "output_type": "display_data"
    },
    {
     "data": {
      "image/png": "[encoded data removed]",
      "text/plain": [
       "<matplotlib.figure.Figure at 0x7f13eb31b048>"
      ]
     },
     "metadata": {},
     "output_type": "display_data"
    }
   ],
   "source": [
    "def plot(T):\n",
    "\n",
    "    fenics.plot(T)\n",
    "\n",
    "    matplotlib.pyplot.title(\"Temperature\")\n",
    "\n",
    "    matplotlib.pyplot.xlabel(\"$x$\")\n",
    "\n",
    "    matplotlib.pyplot.ylabel(\"$T$\")\n",
    "    \n",
    "    matplotlib.pyplot.show()\n",
    "    \n",
    "    \n",
    "    fenics.plot(phi(T))\n",
    "\n",
    "    matplotlib.pyplot.title(\"Solid volume fraction\")\n",
    "\n",
    "    matplotlib.pyplot.xlabel(\"$x$\")\n",
    "\n",
    "    matplotlib.pyplot.ylabel(\"$\\phi$\")\n",
    "    \n",
    "    matplotlib.pyplot.show()\n",
    "    \n",
    "    \n",
    "plot(T)"
   ]
  },
  {
   "cell_type": "markdown",
   "metadata": {},
   "source": [
    "Let's run further."
   ]
  },
  {
   "cell_type": "code",
   "execution_count": 25,
   "metadata": {},
   "outputs": [
    {
     "data": {
      "image/png": "[encoded data removed]",
      "text/plain": [
       "<matplotlib.figure.Figure at 0x7f13eb06c400>"
      ]
     },
     "metadata": {},
     "output_type": "display_data"
    },
    {
     "data": {
      "image/png": "[encoded data removed]",
      "text/plain": [
       "<matplotlib.figure.Figure at 0x7f13eb3344e0>"
      ]
     },
     "metadata": {},
     "output_type": "display_data"
    }
   ],
   "source": [
    "for timestep in range(100):\n",
    "    \n",
    "    T_n.vector()[:] = T.vector()\n",
    "    \n",
    "    solver.solve()\n",
    "    \n",
    "plot(T)"
   ]
  },
  {
   "cell_type": "markdown",
   "metadata": {},
   "source": [
    "## References\n",
    "[1] W Bangerth and R Rannacher. **Adaptive Finite Element Methods for Differential Equations**. *Springer Science & Business Media*, 2003.\n",
    "\n",
    "[2] A Logg, KA Mardal, and GN Wells. **Automated Solution of Differential Equations by the Finite Element Method**, *Springer*, 2012.\n",
    "\n",
    "[3] VR Voller, CR Swaminathan, and BG Thomas. **Fixed grid techniques for phase change problems: a review.** *International Journal of Numerical Methods and Engineering*, 30(4):875–898, 1990.\n",
    "\n",
    "[4] AG Zimmerman and J Kowalski. **Monolithic simulation of convection-coupled phase-change - verification and reproducibility.** *arXiv:1801.03429 [physics.flu-dyn]*, 2018."
   ]
  }
 ],
 "metadata": {
  "kernelspec": {
   "display_name": "Python 3",
   "language": "python",
   "name": "python3"
  },
  "language_info": {
   "codemirror_mode": {
    "name": "ipython",
    "version": 3
   },
   "file_extension": ".py",
   "mimetype": "text/x-python",
   "name": "python",
   "nbconvert_exporter": "python",
   "pygments_lexer": "ipython3",
   "version": "3.5.2"
  }
 },
 "nbformat": 4,
 "nbformat_minor": 2
}
