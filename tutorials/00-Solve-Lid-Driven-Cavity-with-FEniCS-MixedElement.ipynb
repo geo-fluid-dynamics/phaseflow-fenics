{
 "cells": [
  {
   "cell_type": "markdown",
   "metadata": {},
   "source": [
    "# Solving incompressible flow with adaptive mixed finite elements in FEniCS"
   ]
  },
  {
   "cell_type": "markdown",
   "metadata": {},
   "source": [
    "This Jupyter notebook shows how to solve the lid-driven cavity benchmark for incompressible flow by solving the Navier-Stokes equations using mixed finite elements in FEniCS with goal-oriented adaptive mesh refinement (AMR)."
   ]
  },
  {
   "cell_type": "markdown",
   "metadata": {},
   "source": [
    "|Nomenclature||\n",
    "|------------|-|\n",
    "|$\\mathbf{x}$| point in the spatial domain|\n",
    "|$\\mathbf{u} = \\mathbf{u}(\\mathbf{x})$| spatially varying vector-valued velocity|\n",
    "|$p = p(\\mathbf{x})$| spatially varying scalar-valued pressure|\n",
    "|$\\mu$| constant dynamic viscosity of the fluid|\n",
    "|$\\Omega$| spatial domain |\n",
    "|$\\partial \\Omega$| boundary of the spatial domain|\n",
    "|$\\mathbf{w} = \\left(\\mathbf{u}, p\\right)$| vector-valued system solution|\n",
    "|$\\mathbf{W}$| mixed finite element function space |\n",
    "|$\\boldsymbol{\\psi} = (\\boldsymbol{\\psi}_u,\\psi_p)$| mixed finite element basis functions|\n",
    "|$\\Omega_h$| discrete spatial domain, i.e. the mesh |\n",
    "|$M$| goal functional |\n",
    "|$\\epsilon_M$| error tolerance for goal-oriented AMR |"
   ]
  },
  {
   "cell_type": "markdown",
   "metadata": {},
   "source": [
    "## The Navier-stokes equations for incompressible flow"
   ]
  },
  {
   "cell_type": "markdown",
   "metadata": {},
   "source": [
    "The steady incompressible Navier-Stokes equations can be written as the boundary value problem\n",
    "\n",
    "\\begin{align*} \n",
    "    \\left( \\mathbf{u}\\cdot\\nabla \\right)\\mathbf{u} + \\nabla p - 2\\mu \\nabla \\cdot \\mathbf{D}(\\mathbf{u}) &= 0 \\quad \\forall \\mathbf{x} \\in \\Omega \\\\\n",
    "    \\nabla \\cdot \\mathbf{u} &= 0 \\quad \\forall \\mathbf{x} \\in \\Omega \\\\\n",
    "    \\mathbf{u} &= \\mathbf{u}_D \\quad \\forall \\mathbf{x} \\in \\partial\\Omega\n",
    "\\end{align*}\n",
    "\n",
    "where  $\\mathbf{D}(\\mathbf{u}) = \\mathrm{sym}(\\mathbf{u}) = \\frac{1}{2}\\left(\\nabla \\mathbf{u} +  \\left( \\nabla \\mathbf{u} \\right) \\right)$ is the Newtonian fluid's rate of strain tensor. [3]"
   ]
  },
  {
   "cell_type": "markdown",
   "metadata": {},
   "source": [
    "We can write the nonlinear system of equations as\n",
    "\n",
    "\\begin{align*}\n",
    "\\mathbf{F}(\\mathbf{w}) = \\mathbf{0} \\quad \\forall \\mathbf{x} \\in \\Omega\n",
    "\\end{align*}\n",
    "\n",
    "To obtain the finite element weak form, we follow the standard Ritz-Galerkin method extended for mixed finite elements [1]. Therefore, we multiply the system  *from the left* by test functions $\\boldsymbol{\\psi}$ from the mixed finite element function space $\\mathbf{W}$ and integrate over the spatial domain $\\Omega$. This gives us the variational problem: Find $\\mathbf{w} \\in \\mathbf{W}$ such that\n",
    "\n",
    "\\begin{align*}\n",
    "    \\mathcal{F}(\\boldsymbol{\\psi};\\mathbf{w}) = \\int_\\Omega \n",
    "    \\boldsymbol{\\psi} \\mathbf{F}(\\mathbf{w}) \n",
    "    d\\mathbf{x} = 0 \\quad \\forall \\boldsymbol{\\psi} \\in \\hat{\\mathbf{W}}\n",
    "\\end{align*}\n",
    "\n",
    "|Note|\n",
    "|----|\n",
    "|$\\hat{\\mathbf{W}}$ is an auxiliary function space which satisfies Dirichlet boundary conditions. [4]|"
   ]
  },
  {
   "cell_type": "markdown",
   "metadata": {},
   "source": [
    "For the special case of homogeneous Neumann boundary conditions, integrating the weak form by parts yields\n",
    "\n",
    "\\begin{align*}\n",
    "    \\mathcal{F}(\\boldsymbol{\\psi};\\mathbf{w}) = \\quad \\quad \\quad \\quad \\quad \\\\\n",
    "    -(\\psi_p,\\nabla\\cdot\\mathbf{u}) \\\\\n",
    "    + (\\boldsymbol{\\psi}_u, \\nabla\\mathbf{u}\\cdot\\mathbf{u}) -(\\nabla\\cdot\\boldsymbol{\\psi}_u,p) + 2\\mu(\\mathbf{D}(\\boldsymbol{\\psi}_u),\\mathbf{D}(\\mathbf{u}))\n",
    "\\end{align*}\n",
    "\n",
    "|Note| \n",
    "|----|\n",
    "|We denote integrating inner products over the domain as $(v,u) = \\int_\\Omega v u d \\mathbf{x}$ or $(\\mathbf{v},\\mathbf{u}) = \\int_\\Omega \\mathbf{v} \\cdot \\mathbf{u} d \\mathbf{x}$.|\n",
    "\n",
    "This is the form that we will implement with FEniCS."
   ]
  },
  {
   "cell_type": "markdown",
   "metadata": {},
   "source": [
    "## The variational problem"
   ]
  },
  {
   "cell_type": "markdown",
   "metadata": {},
   "source": [
    "We can now implement $\\mathcal{F}$ with a few lines of Python code using FEniCS, and run the lid-driven cavity benchmark."
   ]
  },
  {
   "cell_type": "markdown",
   "metadata": {},
   "source": [
    "First, import FEniCS."
   ]
  },
  {
   "cell_type": "code",
   "execution_count": 1,
   "metadata": {},
   "outputs": [],
   "source": [
    "import fenics"
   ]
  },
  {
   "cell_type": "markdown",
   "metadata": {},
   "source": [
    "Note that this Jupyter notebook server is using FEniCS 2017.2.0 installed via `apt` on Ubuntu 16.04, following [the official instructions](https://fenicsproject.org/download/), i.e.\n",
    "\n",
    "    sudo apt-get install software-properties-common\n",
    "    sudo add-apt-repository ppa:fenics-packages/fenics\n",
    "    sudo apt-get update\n",
    "    sudo apt-get install --no-install-recommends fenics"
   ]
  },
  {
   "cell_type": "markdown",
   "metadata": {},
   "source": [
    "Now, define an initial mesh $\\Omega_h \\in \\Omega$, where the domain $\\Omega$ is the unit square."
   ]
  },
  {
   "cell_type": "code",
   "execution_count": 2,
   "metadata": {},
   "outputs": [],
   "source": [
    "N = initial_uniform_cell_count = 4\n",
    "\n",
    "mesh = fenics.UnitSquareMesh(N, N)"
   ]
  },
  {
   "cell_type": "markdown",
   "metadata": {},
   "source": [
    "Let's look at the mesh. First we import `matplotlib` and tell this notebook to embed its graphical outputs."
   ]
  },
  {
   "cell_type": "code",
   "execution_count": 3,
   "metadata": {},
   "outputs": [],
   "source": [
    "import matplotlib\n",
    "\n",
    "%matplotlib inline"
   ]
  },
  {
   "cell_type": "markdown",
   "metadata": {},
   "source": [
    "FEniCS makes it easy to plot the mesh:"
   ]
  },
  {
   "cell_type": "code",
   "execution_count": 4,
   "metadata": {},
   "outputs": [
    {
     "data": {
      "text/plain": [
       "<matplotlib.text.Text at 0x7f73d04d4f98>"
      ]
     },
     "execution_count": 4,
     "metadata": {},
     "output_type": "execute_result"
    },
    {
     "data": {
      "image/png": "[encoded data removed]",
      "text/plain": [
       "<matplotlib.figure.Figure at 0x7f73d277aa20>"
      ]
     },
     "metadata": {},
     "output_type": "display_data"
    }
   ],
   "source": [
    "fenics.plot(mesh)\n",
    "\n",
    "matplotlib.pyplot.title(\"$\\Omega_h$\")\n",
    "\n",
    "matplotlib.pyplot.xlabel(\"$x$\")\n",
    "\n",
    "matplotlib.pyplot.ylabel(\"$y$\")"
   ]
  },
  {
   "cell_type": "markdown",
   "metadata": {},
   "source": [
    "|Note|\n",
    "|----|\n",
    "|`fenics.plot` does not require us to import `matplotlib`. Rather, we imported this so we could easily annotate the plot.|"
   ]
  },
  {
   "cell_type": "markdown",
   "metadata": {},
   "source": [
    "Make the Taylor-Hood (i.e. P2P1) mixed finite element, which has been shown to be stable for the incompressible Navier-Stokes equations [3]."
   ]
  },
  {
   "cell_type": "code",
   "execution_count": 5,
   "metadata": {},
   "outputs": [],
   "source": [
    "P2 = fenics.VectorElement('P', mesh.ufl_cell(), 2)\n",
    "\n",
    "P1 = fenics.FiniteElement('P', mesh.ufl_cell(), 1)\n",
    "\n",
    "mixed_element = fenics.MixedElement([P2, P1])"
   ]
  },
  {
   "cell_type": "markdown",
   "metadata": {},
   "source": [
    "|Note|\n",
    "|----|\n",
    "|`fenics.FiniteElement` requires the `mesh.ufl_cell()` argument to determine some aspects of the domain (e.g. that the spatial domain is two-dimensional).|"
   ]
  },
  {
   "cell_type": "markdown",
   "metadata": {},
   "source": [
    "Make the mixed finite element function space $\\mathbf{W}$, which enumerates the finite element basis functions on each cell of the mesh."
   ]
  },
  {
   "cell_type": "code",
   "execution_count": 6,
   "metadata": {},
   "outputs": [],
   "source": [
    "W = fenics.FunctionSpace(mesh, mixed_element)"
   ]
  },
  {
   "cell_type": "markdown",
   "metadata": {},
   "source": [
    "Make the test functions $\\boldsymbol{\\psi}_u$ and $\\psi_p$."
   ]
  },
  {
   "cell_type": "code",
   "execution_count": 7,
   "metadata": {},
   "outputs": [],
   "source": [
    "psi_u, psi_p = fenics.TestFunctions(W)"
   ]
  },
  {
   "cell_type": "markdown",
   "metadata": {},
   "source": [
    "Make the system solution function $\\mathbf{w} \\in \\mathbf{W}$ and split it into its components $\\mathbf{u}$ and $p$."
   ]
  },
  {
   "cell_type": "code",
   "execution_count": 8,
   "metadata": {},
   "outputs": [],
   "source": [
    "w = fenics.Function(W)\n",
    "\n",
    "u, p = fenics.split(w)"
   ]
  },
  {
   "cell_type": "markdown",
   "metadata": {},
   "source": [
    "Set a constant dynamic viscosity $\\mu$. Here we choose $\\mu = 0.01$ corresponding to a Reynolds Number of $\\mathrm{Re} = 100$. We define a `fenics.Constant` for use in the variational form so that FEniCS can more efficiently compile the finite element code."
   ]
  },
  {
   "cell_type": "code",
   "execution_count": 9,
   "metadata": {},
   "outputs": [],
   "source": [
    "dynamic_viscosity = 0.01\n",
    "\n",
    "mu = fenics.Constant(dynamic_viscosity)"
   ]
  },
  {
   "cell_type": "markdown",
   "metadata": {},
   "source": [
    "Now we have everything we need to define the nonlinear variational form. First let's define aliases for some of the build-in math functions from `fenics` to improve readability. We also define an alias for the integration measure $d\\mathbf{x}$."
   ]
  },
  {
   "cell_type": "code",
   "execution_count": 10,
   "metadata": {},
   "outputs": [],
   "source": [
    "inner, dot, grad, div, sym = \\\n",
    "    fenics.inner, fenics.dot, fenics.grad, fenics.div, fenics.sym\n",
    "    \n",
    "dx = fenics.dx"
   ]
  },
  {
   "cell_type": "markdown",
   "metadata": {},
   "source": [
    "Define the nonlinear variational form $\\mathcal{F}$."
   ]
  },
  {
   "cell_type": "code",
   "execution_count": 11,
   "metadata": {},
   "outputs": [],
   "source": [
    "convection = dot(psi_u, dot(grad(u), u))\n",
    "\n",
    "internal_source = -div(psi_u)*p\n",
    "\n",
    "diffusion =  2.*mu*inner(sym(grad(psi_u)), sym(grad(u)))\n",
    "\n",
    "incompressibility = -psi_p*div(u)\n",
    "        \n",
    "F = (incompressibility + convection + internal_source + diffusion)*dx"
   ]
  },
  {
   "cell_type": "markdown",
   "metadata": {},
   "source": [
    "Notice that this is a *nonlinear* variational form. FEniCS will solve the nonlinear problem using Newton's method. This requires computing the Jacobian (formally the Gâteaux derivative) of the nonlinear variational form, yielding a a sequence of linearized problems whose solutions may converge to approximate the nonlinear solution.\n",
    "\n",
    "We could manually define the Jacobian; but thankfully FEniCS can do this for us."
   ]
  },
  {
   "cell_type": "code",
   "execution_count": 12,
   "metadata": {},
   "outputs": [],
   "source": [
    "JF = fenics.derivative(F, w, fenics.TrialFunction(W))"
   ]
  },
  {
   "cell_type": "markdown",
   "metadata": {},
   "source": [
    "|Note|\n",
    "|----|\n",
    "|When solving linear variational problems in FEniCS, one defines the linear variational form using `fenics.TrialFunction` instead of `fenics.Function` (while both approaches will need `fenics.TestFunction`). When solving nonlinear variational problems with FEniCS, we only need `fenics.TrialFunction` to define the linearized problem, since it is the linearized problem which will be assembled into a linear system and solved.|"
   ]
  },
  {
   "cell_type": "markdown",
   "metadata": {},
   "source": [
    "Now that we have the nonlinear variational *form* $\\mathcal{F}$, we are only missing boundary conditions before we can define a nonlinear variational *problem* (i.e. in this case a boundary value problem).\n",
    "\n",
    "For the lid-driven cavity, we physically consider *no slip* velocity boundary conditions for all boundaries. These manifest as homogeneous Dirichlet boundary conditions on the fixed walls, but as a non-homogeneous Dirichlet boundary condition on the lid."
   ]
  },
  {
   "cell_type": "code",
   "execution_count": 13,
   "metadata": {},
   "outputs": [],
   "source": [
    "lid_velocity = (1., 0.)\n",
    "\n",
    "fixed_wall_velocity = (0., 0.)"
   ]
  },
  {
   "cell_type": "markdown",
   "metadata": {},
   "source": [
    "Because the problem's geometry is imple, we can identify the boundaries with the following strings."
   ]
  },
  {
   "cell_type": "code",
   "execution_count": 14,
   "metadata": {},
   "outputs": [],
   "source": [
    "lid_location = \"near(x[1],  1.)\"\n",
    "\n",
    "fixed_wall_locations = \"near(x[0], 0.) | near(x[0], 1.) | near(x[1], 0.)\""
   ]
  },
  {
   "cell_type": "markdown",
   "metadata": {},
   "source": [
    "Define the boundary conditions on the velocity subspace."
   ]
  },
  {
   "cell_type": "code",
   "execution_count": 15,
   "metadata": {},
   "outputs": [],
   "source": [
    "V = W.sub(0)\n",
    "\n",
    "boundary_conditions = [\n",
    "    fenics.DirichletBC(V, lid_velocity, lid_location),\n",
    "    fenics.DirichletBC(V, fixed_wall_velocity, fixed_wall_locations)]"
   ]
  },
  {
   "cell_type": "markdown",
   "metadata": {},
   "source": [
    "Now we have everything we need to define the variational problem."
   ]
  },
  {
   "cell_type": "code",
   "execution_count": 16,
   "metadata": {},
   "outputs": [],
   "source": [
    "problem = fenics.NonlinearVariationalProblem(F, w, boundary_conditions, JF)"
   ]
  },
  {
   "cell_type": "markdown",
   "metadata": {},
   "source": [
    "## Goal-oriented adaptive mesh refinement (AMR)"
   ]
  },
  {
   "cell_type": "markdown",
   "metadata": {},
   "source": [
    "We wish to solve the problem with adaptive mesh refinement (AMR). For this it helps to explain that we have already defined the *discrete* nonlinear variational problem using FEniCS: Find $\\mathbf{w}_h \\in \\mathbf{W}_h \\subset \\mathbf{W}(\\Omega)$ such that\n",
    "\n",
    "\\begin{align*}\n",
    "    \\mathcal{F}(\\boldsymbol{\\psi}_h;\\mathbf{w}_h) = 0 \\quad \\forall \\boldsymbol{\\psi}_h \\in \\hat{\\mathbf{W}}_h \\subset \\hat{\\mathbf{W}}\n",
    "\\end{align*}"
   ]
  },
  {
   "cell_type": "markdown",
   "metadata": {},
   "source": [
    "Given this, goal-oriented AMR poses the problem: Find $\\mathbf{W}_h \\subset \\mathbf{W}(\\Omega)$ and $\\mathbf{w}_h \\in \\mathbf{W}_h$ such that\n",
    "\n",
    "\\begin{align*}\n",
    "    \\left| M(\\mathbf{w}) - M(\\mathbf{w}_h) \\right| < \\epsilon_M\n",
    "\\end{align*}\n",
    "\n",
    "where $M$ is some goal functional of the solution which we integrate over the domain, and where $\\epsilon_M$ is a prescribed tolerance. Note that since we do not know the exact solution $\\mathbf{w}$, this method requires an error estimator. This is detailed in [2]. For our purposes, we only need to define $M$ and $\\epsilon_M$. Let's do this now.\n",
    "\n",
    "Published results for the lid-driven cavity often examine the horizontal velocity for verification. Let us make a goal based on this."
   ]
  },
  {
   "cell_type": "code",
   "execution_count": 17,
   "metadata": {},
   "outputs": [],
   "source": [
    "M = u[0]**2*dx"
   ]
  },
  {
   "cell_type": "markdown",
   "metadata": {},
   "source": [
    "Let us set the tolerance somewhat arbitrarily. For real problems of scientific or engineering interest, one might have accuracy requirements which could help drive this decision."
   ]
  },
  {
   "cell_type": "code",
   "execution_count": 18,
   "metadata": {},
   "outputs": [],
   "source": [
    "epsilon_M = 1.e-4"
   ]
  },
  {
   "cell_type": "markdown",
   "metadata": {},
   "source": [
    "## The benchmark solution"
   ]
  },
  {
   "cell_type": "markdown",
   "metadata": {},
   "source": [
    "Finally we instantiate the adaptive solver with our problem and goal"
   ]
  },
  {
   "cell_type": "code",
   "execution_count": 19,
   "metadata": {},
   "outputs": [],
   "source": [
    "solver = fenics.AdaptiveNonlinearVariationalSolver(problem, M)"
   ]
  },
  {
   "cell_type": "markdown",
   "metadata": {},
   "source": [
    "As a last step before we call the solver, we should provide a suitable initial guess to the Newton solver. We do this by initializing the solution function. By default (perhaps only when FEniCS is compiled with `gcc`) the solution is initialized to all zeros. Let's instead provide values that are consistent with the boundary conditions."
   ]
  },
  {
   "cell_type": "code",
   "execution_count": 20,
   "metadata": {},
   "outputs": [],
   "source": [
    "expression = fenics.Expression((lid_location, \"0.\", \"0.\"), element = mixed_element)\n",
    "\n",
    "interpolated_values = fenics.interpolate(expression, W)\n",
    "        \n",
    "w.vector()[:] = interpolated_values.vector() "
   ]
  },
  {
   "cell_type": "markdown",
   "metadata": {},
   "source": [
    "Solve the problem to the prescribed tolerance."
   ]
  },
  {
   "cell_type": "code",
   "execution_count": 21,
   "metadata": {},
   "outputs": [],
   "source": [
    "solver.solve(epsilon_M)"
   ]
  },
  {
   "cell_type": "markdown",
   "metadata": {},
   "source": [
    "|Note|\n",
    "|----|\n",
    "|`solver.solve` will modify the solution `w`, which means that `u` and `p` will also be modified.|"
   ]
  },
  {
   "cell_type": "markdown",
   "metadata": {},
   "source": [
    "To post-process the solution, we must take an extra step calling `fenics.Function.leaf_node()` to access the solution on the refined mesh."
   ]
  },
  {
   "cell_type": "code",
   "execution_count": 22,
   "metadata": {},
   "outputs": [],
   "source": [
    "u, p = fenics.split(w.leaf_node())"
   ]
  },
  {
   "cell_type": "markdown",
   "metadata": {},
   "source": [
    "Now plot the velocity vector field"
   ]
  },
  {
   "cell_type": "code",
   "execution_count": 23,
   "metadata": {},
   "outputs": [
    {
     "data": {
      "text/plain": [
       "<matplotlib.quiver.Quiver at 0x7f73cc020828>"
      ]
     },
     "execution_count": 23,
     "metadata": {},
     "output_type": "execute_result"
    },
    {
     "data": {
      "image/png": "[encoded data removed]",
      "text/plain": [
       "<matplotlib.figure.Figure at 0x7f73cf8e0cc0>"
      ]
     },
     "metadata": {},
     "output_type": "display_data"
    }
   ],
   "source": [
    "fenics.plot(u)"
   ]
  },
  {
   "cell_type": "markdown",
   "metadata": {},
   "source": [
    "and also plot the adapted mesh."
   ]
  },
  {
   "cell_type": "code",
   "execution_count": 24,
   "metadata": {},
   "outputs": [
    {
     "data": {
      "text/plain": [
       "[<matplotlib.lines.Line2D at 0x7f73cbf9d400>,\n",
       " <matplotlib.lines.Line2D at 0x7f73cbf9d550>]"
      ]
     },
     "execution_count": 24,
     "metadata": {},
     "output_type": "execute_result"
    },
    {
     "data": {
      "image/png": "[encoded data removed]",
      "text/plain": [
       "<matplotlib.figure.Figure at 0x7f73cd974240>"
      ]
     },
     "metadata": {},
     "output_type": "display_data"
    }
   ],
   "source": [
    "fenics.plot(mesh.leaf_node())"
   ]
  },
  {
   "cell_type": "markdown",
   "metadata": {},
   "source": [
    "## References\n",
    "[1] F Brezzi and M Fortin. **Mixed and hybrid finite element methods**, volume 15.\n",
    "*Springer Science & Business Media*, 1991.\n",
    "\n",
    "[2] W Bangerth and R Rannacher. **Adaptive Finite Element Methods for Differential Equations**. *Springer Science & Business Media*, 2003.\n",
    "\n",
    "[3] J Donea and A Huerta. **Finite element methods for flow problems.** *John Wiley &\n",
    "Sons*, 2003. \n",
    "\n",
    "[4] A Logg, KA Mardal, and GN Wells. **Automated Solution of Differential Equations by the Finite Element Method**, *Springer*, 2012."
   ]
  }
 ],
 "metadata": {
  "kernelspec": {
   "display_name": "Python 3",
   "language": "python",
   "name": "python3"
  },
  "language_info": {
   "codemirror_mode": {
    "name": "ipython",
    "version": 3
   },
   "file_extension": ".py",
   "mimetype": "text/x-python",
   "name": "python",
   "nbconvert_exporter": "python",
   "pygments_lexer": "ipython3",
   "version": "3.5.2"
  }
 },
 "nbformat": 4,
 "nbformat_minor": 2
}
